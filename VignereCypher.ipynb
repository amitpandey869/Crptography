{
  "nbformat": 4,
  "nbformat_minor": 0,
  "metadata": {
    "colab": {
      "provenance": []
    },
    "kernelspec": {
      "name": "python3",
      "display_name": "Python 3"
    },
    "language_info": {
      "name": "python"
    }
  },
  "cells": [
    {
      "cell_type": "code",
      "execution_count": null,
      "metadata": {
        "id": "dDjKQCU1or8o"
      },
      "outputs": [],
      "source": [
        "file1=open(\"myfile.txt\",\"w\")\n",
        "file1.close()"
      ]
    },
    {
      "cell_type": "code",
      "source": [
        "file1 = open(\"myfile.txt\",\"r+\")\n",
        "file2=file1.read()\n",
        "#file3=file2()\n",
        "c=file2.count('A')\n",
        "print(c)"
      ],
      "metadata": {
        "colab": {
          "base_uri": "https://localhost:8080/"
        },
        "id": "3tyVnj7VpNk5",
        "outputId": "1d735fcb-03c8-48de-f834-c61d88bfd0d8"
      },
      "execution_count": null,
      "outputs": [
        {
          "output_type": "stream",
          "name": "stdout",
          "text": [
            "4\n"
          ]
        }
      ]
    },
    {
      "cell_type": "code",
      "source": [
        "import fileinput\n",
        "string1=''\n",
        "\n",
        "for line in fileinput.input(files ='myfile.txt'):\n",
        "    string1+=line\n"
      ],
      "metadata": {
        "id": "ut_sqmLtpQx8"
      },
      "execution_count": null,
      "outputs": []
    },
    {
      "cell_type": "code",
      "source": [
        "\n",
        "def encryption(c,string2):\n",
        "  m2=[]\n",
        "  for i in range(len(string2)):\n",
        "    m2.extend(chr((ord(string2[i])+ord(c[i]))%26+ord('A')))\n",
        "  return m2\n",
        "\n",
        "\n",
        "def decryption(c,m2):\n",
        "  result=[]\n",
        "  for i in range(len(m2)):\n",
        "    result.append(chr((ord(m2[i])-ord(c[i])+26)%26+ord('A')))\n",
        "  return result\n",
        "def keyc(string2, c):\n",
        "\tc = list(c)\n",
        "\tif len(string2) == len(c):\n",
        "\t\treturn(c)\n",
        "\telse:\n",
        "\t\tfor i in range(len(string2) -len(c)):\n",
        "\t\t\tc.append(c[i % len(c)])\n",
        "\treturn(\"\" . join(c))\n",
        "\n",
        "string2=string1.strip()\n",
        "string2=string2.replace(\" \",\"\")\n",
        "string2=string2.upper()\n",
        "string2=string2.replace(\".\",\"\")\n",
        "string2=string2.replace(\"'\",\"\")\n",
        "print(string2)\n",
        "c='AMITPANDEY'\n",
        "print(string2.count('A'))\n",
        "print(keyc(string2,c))\n",
        "key=keyc(string2,c)\n",
        "m2=encryption(key,string2)\n",
        "print(encryption(key,string2))\n",
        "print(key)\n",
        "print(len(string2))\n",
        "\n",
        "print(decryption(key,m2))\n",
        "\n",
        "\n"
      ],
      "metadata": {
        "colab": {
          "base_uri": "https://localhost:8080/"
        },
        "id": "AN5X6JyUpa2j",
        "outputId": "7b5e2fb6-ad67-4470-cdb3-5a1deb6ac858"
      },
      "execution_count": null,
      "outputs": [
        {
          "output_type": "stream",
          "name": "stdout",
          "text": [
            "WORDCOUNTFROMWIKIPEDIATHEFREEENCYCLOPEDIA\n",
            "THEWORDCOUNTISTHENUMBEROFWORDSINADOCUMENTORPASSAGEOFTEXTWORDCOUNTINGMAYBENEEDEDWHENATEXT\n",
            "ISREQUIREDTOSTAYWITHINCERTAINNUMBERSOFWORDSTHISMAYPARTICULARLYBETHECASEINACADEMIALEGAL\n",
            "PROCEEDINGSJOURNALISMANDADVERTISINGWORDCOUNTISCOMMONLYUSEDBYTRANSLATORSTODETERMINETHEPRICEFOR\n",
            "THETRANSLATIONJOBWORDCOUNTSMAYALSOBEUSEDTOCALCULATEMEASURESOFREADABILITYANDTOMEASURETYPING\n",
            "ANDREADINGSPEEDSUSUALLYINWORDSPERMINUTEWHENCONVERTINGCHARACTERCOUNTSTOWORDSAMEASUREOFFIVEOR\n",
            "SIXCHARACTERSTOAWORDISGENERALLYUSEDCONTENTSDETAILSANDVARIATIONSOFDEFINITIONSOFTWAREINFICTION\n",
            "INNONFICTIONSEEALSOREFERENCESSOURCESEXTERNALLINKSDETAILSANDVARIATIONSOFDEFINITION\n",
            "THISSECTIONDOESNOTCITEANYREFERENCESORSOURCESPLEASEHELPIMPROVETHISSECTIONBYADDINGCITATIONSTO\n",
            "RELIABLESOURCESUNSOURCEDMATERIALMAYBECHALLENGEDANDREMOVED\n",
            "VARIATIONSINTHEOPERATIONALDEFINITIONSOFHOWTOCOUNTTHEWORDSCANOCCURNAMELYWHATCOUNTSASAWORDAND\n",
            "WHICHWORDSDONTCOUNTTOWARDTHETOTALHOWEVERESPECIALLYSINCETHEADVENTOFWIDESPREADWORDPROCESSINGTHERE\n",
            "ISABROADCONSENSUSONTHESEOPERATIONALDEFINITIONSANDHENCETHEBOTTOMLINEINTEGERRESULT\n",
            "THECONSENSUSISTOACCEPTTHETEXTSEGMENTATIONRULESGENERALLYFOUNDINMOSTWORDPROCESSINGSOFTWAREINCLUDINGHOW\n",
            "WORDBOUNDARIESAREDETERMINEDWHICHDEPENDSONHOWWORDDIVIDERSAREDEFINEDTHEFIRSTTRAITOFTHATDEFINITIONISTHATASPACEANYOFVARIOUSWHITESPACE\n",
            "CHARACTERSSUCHASAREGULARWORDSPACEANEMSPACEORATABCHARACTERISAWORDDIVIDERUSUALLYAHYPHENORASLASHISTOO\n",
            "DIFFERENTWORDCOUNTINGPROGRAMSMAYGIVEVARYINGRESULTSDEPENDINGONTHETEXTSEGMENTATIONRULE\n",
            "DETAILSANDONWHETHERWORDSOUTSIDETHEMAINTEXTSUCHASFOOTNOTESENDNOTESORHIDDENTEXT)ARECOUNTEDBUTTHEBEHAVIOR\n",
            "OFMOSTMAJORWORDPROCESSINGAPPLICATIONSISBROADLYSIMILARHOWEVERDURINGTHEERAWHENSCHOOLASSIGNMENTSWEREDONEIN\n",
            "HANDWRITINGORWITHTYPEWRITERSTHERULESFORTHESEDEFINITIONSOFTENDIFFEREDFROMTODAYSCONSENSUS\n",
            "MOSTIMPORTANTLYMANYSTUDENTSWEREDRILLEDONTHERULETHATCERTAINWORDSDONTCOUNTUSUALLYARTICLESNAMELYAANTHEBUT\n",
            "SOMETIMESALSOOTHERSSUCHASCONJUNCTIONSFOREXAMPLEANDORBUTANDSOMEPREPOSITIONSUSUALLYTOOFHYPHENATEDPERMANENT\n",
            "COMPOUNDSSUCHASFOLLOWUPNOUNORLONGTERMADJECTIVEWERECOUNTEDASONEWORDTOSAVETHETIMEANDEFFORTOFCOUNTING\n",
            "WORDBYWORDOFTENARULEOFTHUMBFORTHEAVERAGENUMBEROFWORDSPERLINEWASUSEDSUCHAS10WORDSPERLINETHESERULES\n",
            "HAVEFALLENBYTHEWAYSIDEINTHEWORDPROCESSINGERATHEWORDCOUNTFEATUREOFSUCHSOFTWAREWHICHFOLLOWSTHETEXT\n",
            "SEGMENTATIONRULESMENTIONEDEARLIERISNOWTHESTANDARDARBITERBECAUSEITISLARGELYCONSISTENTACROSSDOCUMENTSAND\n",
            "APPLICATIONSANDBECAUSEITISFASTEFFORTLESSANDCOSTLESSALREADYINCLUDEDWITHTHEAPPLICATIONASFORWHICHSECTIONSOF\n",
            "ADOCUMENTCOUNTTOWARDTHETOTALSUCHASFOOTNOTESENDNOTESABSTRACTSREFERENCELISTSANDBIBLIOGRAPHIESTABLESFIGURE\n",
            "CAPTIONSHIDDENTEXTTHEPERSONINCHARGETEACHERCLIENTCANDEFINETHEIRCHOICEANDUSERSSTUDENTSWORKERSCANSIMPLY\n",
            "SELECTOREXCLUDETHEELEMENTSACCORDINGLYANDWATCHTHEWORDCOUNTAUTOMATICALLYUPDATESOFTWAREMODERNWEBBROWSERS\n",
            "SUPPORTWORDCOUNTINGVIAEXTENSIONSVIAAJAVASCRIPTBOOKMARKLETORASCRIPTTHATISHOSTEDINAWEBSITEMOSTWORD\n",
            "PROCESSORSCANALSOCOUNTWORDSUNIXLIKESYSTEMSINCLUDEAPROGRAMWCSPECIFICALLYFORWORDCOUNTING\n",
            "ASEXPLAINEDEARLIERDIFFERENTWORDCOUNTINGPROGRAMSMAYGIVEVARYINGRESULTSDEPENDINGONTHETEXTSEGMENTATIONRULE\n",
            "DETAILSTHEEXACTNUMBEROFWORDSOFTENISNOTASTRICTREQUIREMENTTHUSTHEVARIATIONISACCEPTABLE\n",
            "INFICTIONNOVELISTJANESMILEYSUGGESTSTHATLENGTHISANIMPORTANTQUALITYOFTHENOVELHOWEVERNOVELSCANVARY\n",
            "TREMENDOUSLYINLENGTHSMILEYLISTSNOVELSASTYPICALLYBEINGBETWEENANDWORDSWHILENATIONALNOVELWRITINGMONTH\n",
            "REQUIRESITSNOVELSTOBEATLEASTWORDSTHEREARENOFIRMRULESFOREXAMPLETHEBOUNDARYBETWEENANOVELLAANDANOVEL\n",
            "ISARBITRARYANDALITERARYWORKMAYBEDIFFICULTTOCATEGORISEBUTWHILETHELENGTHOFANOVELISTOALARGEEXTENTUP\n",
            "TOITSWRITERLENGTHSMAYALSOVARYBYSUBGENREMANYCHAPTERBOOKSFORCHILDRENSTARTATALENGTHOFABOUTWORDSANDA\n",
            "TYPICALMYSTERYNOVELMIGHTBEINTHETOWORDRANGEWHILEATHRILLERCOULDBEOVERWORDS\n",
            "THESCIENCEFICTIONANDFANTASYWRITERSOFAMERICASPECIFIESWORDLENGTHSFOREACHCATEGORYOFITSNEBULAAWARDCATEGORIES\n",
            "CLASSIFICATION\tWORDCOUNTNOVELOVERWORDSNOVELLATOWORDSNOVELETTETOWORDSSHORTSTORYUNDERWORDS\n",
            "INNONFICTIONTHEACCEPTABLELENGTHOFANACADEMICDISSERTATIONVARIESGREATLYDEPENDENTPREDOMINANTLYONTHESUBJECT\n",
            "NUMEROUSAMERICANUNIVERSITIESLIMITPHDDISSERTATIONSTOATMOSTWORDSBARRINGSPECIALPERMISSIONFOREXCEEDINGTHISLIMIT\n",
            "314\n",
            "AMITPANDEYAMITPANDEYAMITPANDEYAMITPANDEYAMITPANDEYAMITPANDEYAMITPANDEYAMITPANDEYAMITPANDEYAMITPANDEYAMITPANDEYAMITPANDEYAMITPANDEYAMITPANDEYAMITPANDEYAMITPANDEYAMITPANDEYAMITPANDEYAMITPANDEYAMITPANDEYAMITPANDEYAMITPANDEYAMITPANDEYAMITPANDEYAMITPANDEYAMITPANDEYAMITPANDEYAMITPANDEYAMITPANDEYAMITPANDEYAMITPANDEYAMITPANDEYAMITPANDEYAMITPANDEYAMITPANDEYAMITPANDEYAMITPANDEYAMITPANDEYAMITPANDEYAMITPANDEYAMITPANDEYAMITPANDEYAMITPANDEYAMITPANDEYAMITPANDEYAMITPANDEYAMITPANDEYAMITPANDEYAMITPANDEYAMITPANDEYAMITPANDEYAMITPANDEYAMITPANDEYAMITPANDEYAMITPANDEYAMITPANDEYAMITPANDEYAMITPANDEYAMITPANDEYAMITPANDEYAMITPANDEYAMITPANDEYAMITPANDEYAMITPANDEYAMITPANDEYAMITPANDEYAMITPANDEYAMITPANDEYAMITPANDEYAMITPANDEYAMITPANDEYAMITPANDEYAMITPANDEYAMITPANDEYAMITPANDEYAMITPANDEYAMITPANDEYAMITPANDEYAMITPANDEYAMITPANDEYAMITPANDEYAMITPANDEYAMITPANDEYAMITPANDEYAMITPANDEYAMITPANDEYAMITPANDEYAMITPANDEYAMITPANDEYAMITPANDEYAMITPANDEYAMITPANDEYAMITPANDEYAMITPANDEYAMITPANDEYAMITPANDEYAMITPANDEYAMITPANDEYAMITPANDEYAMITPANDEYAMITPANDEYAMITPANDEYAMITPANDEYAMITPANDEYAMITPANDEYAMITPANDEYAMITPANDEYAMITPANDEYAMITPANDEYAMITPANDEYAMITPANDEYAMITPANDEYAMITPANDEYAMITPANDEYAMITPANDEYAMITPANDEYAMITPANDEYAMITPANDEYAMITPANDEYAMITPANDEYAMITPANDEYAMITPANDEYAMITPANDEYAMITPANDEYAMITPANDEYAMITPANDEYAMITPANDEYAMITPANDEYAMITPANDEYAMITPANDEYAMITPANDEYAMITPANDEYAMITPANDEYAMITPANDEYAMITPANDEYAMITPANDEYAMITPANDEYAMITPANDEYAMITPANDEYAMITPANDEYAMITPANDEYAMITPANDEYAMITPANDEYAMITPANDEYAMITPANDEYAMITPANDEYAMITPANDEYAMITPANDEYAMITPANDEYAMITPANDEYAMITPANDEYAMITPANDEYAMITPANDEYAMITPANDEYAMITPANDEYAMITPANDEYAMITPANDEYAMITPANDEYAMITPANDEYAMITPANDEYAMITPANDEYAMITPANDEYAMITPANDEYAMITPANDEYAMITPANDEYAMITPANDEYAMITPANDEYAMITPANDEYAMITPANDEYAMITPANDEYAMITPANDEYAMITPANDEYAMITPANDEYAMITPANDEYAMITPANDEYAMITPANDEYAMITPANDEYAMITPANDEYAMITPANDEYAMITPANDEYAMITPANDEYAMITPANDEYAMITPANDEYAMITPANDEYAMITPANDEYAMITPANDEYAMITPANDEYAMITPANDEYAMITPANDEYAMITPANDEYAMITPANDEYAMITPANDEYAMITPANDEYAMITPANDEYAMITPANDEYAMITPANDEYAMITPANDEYAMITPANDEYAMITPANDEYAMITPANDEYAMITPANDEYAMITPANDEYAMITPANDEYAMITPANDEYAMITPANDEYAMITPANDEYAMITPANDEYAMITPANDEYAMITPANDEYAMITPANDEYAMITPANDEYAMITPANDEYAMITPANDEYAMITPANDEYAMITPANDEYAMITPANDEYAMITPANDEYAMITPANDEYAMITPANDEYAMITPANDEYAMITPANDEYAMITPANDEYAMITPANDEYAMITPANDEYAMITPANDEYAMITPANDEYAMITPANDEYAMITPANDEYAMITPANDEYAMITPANDEYAMITPANDEYAMITPANDEYAMITPANDEYAMITPANDEYAMITPANDEYAMITPANDEYAMITPANDEYAMITPANDEYAMITPANDEYAMITPANDEYAMITPANDEYAMITPANDEYAMITPANDEYAMITPANDEYAMITPANDEYAMITPANDEYAMITPANDEYAMITPANDEYAMITPANDEYAMITPANDEYAMITPANDEYAMITPANDEYAMITPANDEYAMITPANDEYAMITPANDEYAMITPANDEYAMITPANDEYAMITPANDEYAMITPANDEYAMITPANDEYAMITPANDEYAMITPANDEYAMITPANDEYAMITPANDEYAMITPANDEYAMITPANDEYAMITPANDEYAMITPANDEYAMITPANDEYAMITPANDEYAMITPANDEYAMITPANDEYAMITPANDEYAMITPANDEYAMITPANDEYAMITPANDEYAMITPANDEYAMITPANDEYAMITPANDEYAMITPANDEYAMITPANDEYAMITPANDEYAMITPANDEYAMITPANDEYAMITPANDEYAMITPANDEYAMITPANDEYAMITPANDEYAMITPANDEYAMITPANDEYAMITPANDEYAMITPANDEYAMITPANDEYAMITPANDEYAMITPANDEYAMITPANDEYAMITPANDEYAMITPANDEYAMITPANDEYAMITPANDEYAMITPANDEYAMITPANDEYAMITPANDEYAMITPANDEYAMITPANDEYAMITPANDEYAMITPANDEYAMITPANDEYAMITPANDEYAMITPANDEYAMITPANDEYAMITPANDEYAMITPANDEYAMITPANDEYAMITPANDEYAMITPANDEYAMITPANDEYAMITPANDEYAMITPANDEYAMITPANDEYAMITPANDEYAMITPANDEYAMITPANDEYAMITPANDEYAMITPANDEYAMITPANDEYAMITPANDEYAMITPANDEYAMITPANDEYAMITPANDEYAMITPANDEYAMITPANDEYAMITPANDEYAMITPANDEYAMITPANDEYAMITPANDEYAMITPANDEYAMITPANDEYAMITPANDEYAMITPANDEYAMITPANDEYAMITPANDEYAMITPANDEYAMITPANDEYAMITPANDEYAMITPANDEYAMITPANDEYAMITPANDEYAMITPANDEYAMITPANDEYAMITPANDEYAMITPANDEYAMITPANDEYAMITPANDEYAMITPANDEYAMITPANDEYAMITPANDEYAMITPANDEYAMITPANDEYAMITPANDEYAMITPANDEYAMITPANDEYAMITPANDEYAMITPANDEYAMITPANDEYAMITPANDEYAMITPANDEYAMITPANDEYAMITPANDEYAMITPANDEYAMITPANDEYAMITPANDEYAMITPANDEYAMITPANDEYAMITPANDEYAMITPANDEYAMITPANDEYAMITPANDEYAMITPANDEYAMITPANDEYAMITPANDEYAMITPANDEYAMITPANDEYAMITPANDEYAMITPANDEYAMITPANDEYAMITPANDEYAMITPANDEYAMITPANDEYAMITPANDEYAMITPANDEYAMITPANDEYAMITPANDEYAMITPANDEYAMITPANDEYAMITPANDEYAMITPANDEYAMITPANDEYAMITPANDEYAMITPANDEYAMITPANDEYAMITPANDEYAMITPANDEYAMITPANDEYAMITPANDEYAMITPANDEYAMITPANDEYAMITPANDEYAMITPANDEYAMITPANDEYAMITPANDEYAMITPANDEYAMITPANDEYAMITPANDEYAMITPANDEYAM\n",
            "['W', 'A', 'Z', 'W', 'R', 'O', 'H', 'Q', 'X', 'D', 'R', 'A', 'U', 'P', 'X', 'K', 'V', 'S', 'I', 'B', 'I', 'M', 'B', 'A', 'T', 'F', 'E', 'H', 'I', 'C', 'N', 'O', 'G', 'V', 'A', 'O', 'C', 'H', 'H', 'G', 'A', 'J', 'B', 'A', 'T', 'W', 'B', 'U', 'H', 'A', 'O', 'G', 'V', 'M', 'X', 'S', 'G', 'K', 'I', 'L', 'U', 'Y', 'J', 'X', 'G', 'O', 'S', 'Z', 'S', 'P', 'D', 'E', 'Q', 'G', 'P', 'D', 'B', 'F', 'Y', 'K', 'E', 'Z', 'B', 'H', 'G', 'P', 'N', 'V', 'W', 'Y', 'G', 'Q', 'W', 'Y', 'I', 'E', 'K', 'W', 'A', 'M', 'R', 'P', 'K', 'H', 'J', 'N', 'G', 'L', 'R', 'E', 'M', 'M', 'G', 'U', 'T', 'N', 'R', 'H', 'H', 'C', 'D', 'I', 'P', 'X', 'C', 'A', 'G', 'H', 'B', 'R', 'X', 'U', 'A', 'K', 'T', 'Q', 'H', 'L', 'V', 'C', 'D', 'F', 'W', 'L', 'I', 'A', 'L', 'Z', 'M', 'R', 'H', 'U', 'V', 'V', 'T', 'R', 'G', 'D', 'M', 'L', 'N', 'G', 'U', 'U', 'T', 'R', 'F', 'R', 'J', 'U', 'O', 'D', 'L', 'L', 'I', 'H', 'V', 'V', 'Q', 'Y', 'Y', 'B', 'I', 'K', 'I', 'I', 'P', 'X', 'P', 'Y', 'R', 'X', 'G', 'U', 'T', 'T', 'U', 'H', 'G', 'Y', 'S', 'Q', 'Q', 'G', 'P', 'C', 'N', 'G', 'I', 'K', 'I', 'M', 'T', 'X', 'V', 'A', 'Y', 'A', 'T', 'P', 'O', 'O', 'M', 'X', 'S', 'I', 'A', 'J', 'W', 'H', 'O', 'G', 'Z', 'G', 'P', 'L', 'V', 'V', 'Q', 'Y', 'N', 'P', 'I', 'W', 'K', 'E', 'E', 'W', 'M', 'Q', 'I', 'Z', 'O', 'P', 'D', 'R', 'Q', 'F', 'S', 'S', 'N', 'F', 'Q', 'L', 'R', 'O', 'Z', 'P', 'S', 'L', 'L', 'K', 'C', 'L', 'T', 'D', 'O', 'B', 'X', 'P', 'A', 'Z', 'A', 'E', 'P', 'T', 'B', 'U', 'W', 'R', 'O', 'P', 'M', 'M', 'T', 'R', 'Z', 'L', 'R', 'C', 'T', 'T', 'M', 'I', 'G', 'I', 'P', 'H', 'J', 'M', 'R', 'J', 'B', 'A', 'T', 'T', 'E', 'D', 'R', 'Q', 'L', 'M', 'B', 'B', 'D', 'N', 'W', 'R', 'F', 'U', 'O', 'D', 'L', 'V', 'D', 'U', 'A', 'W', 'W', 'K', 'A', 'K', 'I', 'E', 'H', 'O', 'O', 'H', 'Y', 'Q', 'E', 'P', 'B', 'H', 'R', 'A', 'Y', 'F', 'Y', 'J', 'A', 'F', 'M', 'F', 'T', 'A', 'F', 'X', 'V', 'C', 'S', 'A', 'N', 'K', 'T', 'A', 'Q', 'D', 'F', 'G', 'L', 'U', 'B', 'R', 'P', 'N', 'Q', 'W', 'S', 'K', 'E', 'M', 'A', 'N', 'G', 'E', 'G', 'B', 'T', 'G', 'N', 'S', 'F', 'T', 'C', 'D', 'E', 'H', 'E', 'B', 'I', 'Z', 'O', 'L', 'E', 'E', 'R', 'G', 'W', 'S', 'S', 'G', 'I', 'E', 'A', 'Y', 'V', 'Q', 'A', 'M', 'R', 'P', 'A', 'I', 'T', 'R', 'Z', 'L', 'R', 'S', 'T', 'Q', 'E', 'A', 'T', 'N', 'P', 'R', 'R', 'T', 'E', 'D', 'B', 'B', 'C', 'G', 'P', 'K', 'E', 'P', 'A', 'O', 'B', 'X', 'G', 'C', 'B', 'X', 'R', 'R', 'S', 'F', 'W', 'P', 'D', 'R', 'Q', 'V', 'E', 'K', 'E', 'M', 'A', 'N', 'G', 'E', 'B', 'I', 'J', 'G', 'V', 'Q', 'W', 'K', 'M', 'S', 'V', 'A', 'G', 'F', 'A', 'D', 'I', 'V', 'I', 'E', 'E', 'V', 'X', 'M', 'A', 'I', 'W', 'K', 'S', 'I', 'F', 'J', 'I', 'L', 'E', 'D', 'I', 'E', 'A', 'Y', 'H', 'V', 'I', 'B', 'C', 'A', 'V', 'M', 'T', 'N', 'G', 'V', 'H', 'C', 'T', 'M', 'Q', 'E', 'H', 'A', 'A', 'G', 'Z', 'Y', 'R', 'U', 'I', 'M', 'X', 'O', 'A', 'V', 'S', 'D', 'D', 'Q', 'N', 'B', 'C', 'I', 'G', 'L', 'S', 'L', 'S', 'A', 'N', 'M', 'L', 'A', 'E', 'H', 'M', 'L', 'F', 'U', 'K', 'M', 'X', 'O', 'A', 'A', 'M', 'L', 'N', 'A', 'V', 'Y', 'X', 'C', 'G', 'L', 'S', 'L', 'S', 'Q', 'M', 'T', 'A', 'S', 'B', 'U', 'I', 'D', 'E', 'D', 'M', 'G', 'R', 'E', 'F', 'V', 'S', 'S', 'R', 'O', 'M', 'L', 'T', 'X', 'G', 'H', 'V', 'L', 'A', 'X', 'T', 'B', 'C', 'K', 'F', 'G', 'I', 'R', 'A', 'U', 'T', 'L', 'P', 'N', 'Q', 'Y', 'E', 'P', 'I', 'M', 'B', 'B', 'D', 'N', 'F', 'R', 'J', 'B', 'E', 'R', 'Q', 'G', 'X', 'T', 'V', 'R', 'R', 'V', 'T', 'T', 'Q', 'L', 'H', 'E', 'P', 'W', 'M', 'M', 'N', 'P', 'W', 'X', 'H', 'N', 'B', 'W', 'G', 'G', 'T', 'Q', 'I', 'G', 'N', 'R', 'R', 'I', 'I', 'P', 'E', 'Z', 'K', 'X', 'H', 'O', 'E', 'V', 'S', 'S', 'R', 'O', 'M', 'L', 'E', 'L', 'R', 'D', 'W', 'C', 'H', 'Q', 'T', 'I', 'X', 'M', 'C', 'U', 'S', 'T', 'E', 'F', 'P', 'B', 'H', 'S', 'R', 'F', 'X', 'G', 'O', 'Z', 'J', 'R', 'P', 'D', 'Q', 'L', 'R', 'E', 'C', 'U', 'B', 'T', 'I', 'I', 'B', 'Q', 'W', 'R', 'O', 'J', 'Z', 'X', 'A', 'I', 'N', 'E', 'P', 'C', 'S', 'A', 'C', 'K', 'R', 'E', 'F', 'X', 'R', 'Q', 'O', 'G', 'Z', 'V', 'T', 'D', 'Z', 'D', 'X', 'C', 'R', 'U', 'I', 'E', 'B', 'A', 'L', 'E', 'I', 'A', 'H', 'M', 'T', 'E', 'T', 'N', 'T', 'H', 'H', 'Y', 'N', 'P', 'Z', 'X', 'B', 'O', 'I', 'H', 'H', 'V', 'V', 'M', 'Z', 'B', 'P', 'T', 'V', 'R', 'R', 'Q', 'I', 'Z', 'B', 'A', 'T', 'O', 'C', 'H', 'V', 'Y', 'T', 'U', 'W', 'G', 'P', 'L', 'Q', 'H', 'J', 'G', 'N', 'U', 'B', 'B', 'D', 'N', 'F', 'R', 'J', 'F', 'O', 'I', 'B', 'H', 'R', 'O', 'H', 'Q', 'X', 'R', 'H', 'Q', 'E', 'H', 'G', 'D', 'F', 'F', 'E', 'L', 'O', 'O', 'K', 'N', 'G', 'N', 'N', 'P', 'I', 'J', 'Y', 'I', 'P', 'T', 'I', 'C', 'B', 'X', 'R', 'R', 'S', 'M', 'A', 'T', 'L', 'O', 'E', 'G', 'E', 'L', 'D', 'J', 'E', 'A', 'X', 'C', 'U', 'Z', 'S', 'P', 'D', 'E', 'L', 'H', 'C', 'T', 'P', 'R', 'Y', 'L', 'T', 'F', 'W', 'P', 'P', 'R', 'Q', 'W', 'L', 'C', 'T', 'A', 'B', 'T', 'A', 'H', 'B', 'Z', 'I', 'T', 'E', 'D', 'M', 'L', 'E', 'E', 'P', 'L', 'E', 'J', 'L', 'K', 'A', 'B', 'C', 'C', 'R', 'W', 'L', 'C', 'A', 'P', 'D', 'X', 'C', 'T', 'B', 'I', 'A', 'G', 'D', 'Q', 'A', 'I', 'G', 'E', 'N', 'G', 'A', 'M', 'R', 'P', 'X', 'K', 'D', 'C', 'R', 'V', 'W', 'G', 'N', 'S', 'B', 'A', 'T', 'R', 'R', 'A', 'M', 'Q', 'A', 'N', 'Z', 'H', 'P', 'D', 'P', 'R', 'R', 'Q', 'E', 'Z', 'A', 'N', 'H', 'O', 'A', 'W', 'L', 'C', 'S', 'Q', 'W', 'I', 'T', 'R', 'N', 'W', 'M', 'M', 'N', 'M', 'T', 'W', 'T', 'F', 'V', 'Q', 'M', 'R', 'I', 'A', 'V', 'L', 'P', 'N', 'Q', 'K', 'I', 'L', 'C', 'Q', 'B', 'A', 'T', 'B', 'B', 'W', 'X', 'M', 'M', 'X', 'Q', 'G', 'T', 'I', 'A', 'W', 'I', 'E', 'E', 'D', 'Z', 'X', 'H', 'U', 'Y', 'W', 'B', 'R', 'H', 'Q', 'K', 'H', 'C', 'S', 'R', 'Q', 'W', 'S', 'S', 'U', 'A', 'M', 'D', 'A', 'P', 'F', 'I', 'N', 'T', 'F', 'P', 'X', 'I', 'E', 'K', 'W', 'W', 'C', 'G', 'Y', 'M', 'G', 'I', 'A', 'G', 'L', 'S', 'L', 'R', 'G', 'T', 'X', 'H', 'G', 'R', 'Q', 'I', 'P', 'A', 'X', 'T', 'R', 'U', 'O', 'H', 'Q', 'H', 'G', 'N', 'Y', 'W', 'L', 'I', 'W', 'B', 'U', 'H', 'N', 'R', 'A', 'K', 'X', 'H', 'S', 'V', 'Q', 'K', 'Q', 'O', 'R', 'B', 'P', 'P', 'R', 'R', 'L', 'R', 'A', 'L', 'G', 'L', 'B', 'C', 'G', 'U', 'R', 'A', 'V', 'W', 'A', 'Z', 'W', 'Q', 'O', 'H', 'Q', 'H', 'Y', 'R', 'U', 'M', 'L', 'P', 'R', 'R', 'G', 'I', 'R', 'E', 'D', 'U', 'B', 'C', 'E', 'Q', 'Z', 'L', 'G', 'C', 'T', 'L', 'X', 'E', 'E', 'A', 'G', 'W', 'M', 'N', 'T', 'W', 'P', 'L', 'O', 'E', 'G', 'H', 'G', 'V', 'U', 'L', 'X', 'G', 'S', 'N', 'U', 'I', 'B', 'E', 'R', 'Q', 'G', 'T', 'D', 'G', 'K', 'I', 'D', 'I', 'D', 'A', 'M', 'I', 'R', 'N', 'L', 'X', 'M', 'F', 'F', 'P', 'T', 'I', 'D', 'R', 'I', 'M', 'L', 'I', 'F', 'Q', 'H', 'C', 'I', 'F', 'W', 'L', 'Y', 'T', 'M', 'A', 'I', 'P', 'C', 'R', 'D', 'R', 'W', 'O', 'R', 'D', 'T', 'G', 'I', 'B', 'X', 'W', 'U', 'H', 'U', 'B', 'X', 'H', 'P', 'N', 'F', 'I', 'V', 'C', 'T', 'I', 'K', 'P', 'C', 'G', 'H', 'V', 'Q', 'S', 'G', 'K', 'A', 'P', 'S', 'N', 'U', 'I', 'E', 'U', 'X', 'I', 'K', 'L', 'O', 'E', 'G', 'W', 'N', 'A', 'O', 'M', 'T', 'C', 'E', 'Z', 'V', 'T', 'Y', 'C', 'Q', 'W', 'K', 'P', 'T', 'N', 'E', 'G', 'F', 'A', 'D', 'I', 'V', 'I', 'E', 'E', 'L', 'W', 'Y', 'W', 'A', 'Z', 'W', 'S', 'I', 'I', 'L', 'H', 'C', 'R', 'G', 'A', 'N', 'P', 'L', 'Y', 'B', 'E', 'F', 'Y', 'B', 'P', 'X', 'C', 'O', 'E', 'D', 'W', 'J', 'A', 'E', 'P', 'B', 'H', 'T', 'B', 'R', 'B', 'B', 'I', 'R', 'N', 'X', 'G', 'E', 'A', 'W', 'A', 'M', 'R', 'P', 'K', 'H', 'J', 'N', 'G', 'L', 'R', 'E', 'P', 'D', 'W', 'Z', 'G', 'A', 'Z', 'V', 'Q', 'Y', 'Y', 'S', 'Q', 'O', 'T', 'V', 'N', 'U', 'C', 'G', 'N', 'S', 'Z', 'X', 'H', 'U', 'Y', 'W', 'W', 'B', 'E', 'B', 'M', 'G', 'S', 'I', 'A', 'J', 'S', 'L', 'T', 'T', 'M', 'M', 'T', 'X', 'G', 'V', 'I', 'E', 'M', 'Q', 'V', 'M', 'P', 'T', 'V', 'R', 'R', 'P', 'U', 'X', 'M', 'Q', 'S', 'E', 'G', 'D', 'M', 'J', 'S', 'M', 'V', 'W', 'D', 'N', 'J', 'K', 'I', 'R', 'H', 'Q', 'Z', 'P', 'D', 'R', 'Q', 'V', 'S', 'S', 'T', 'E', 'Q', 'W', 'T', 'T', 'U', 'H', 'Q', 'Y', 'I', 'Z', 'B', 'X', 'M', 'T', 'F', 'X', 'G', 'F', 'A', 'E', 'N', 'H', 'D', 'T', 'A', 'R', 'X', 'C', 'S', 'Q', 'V', 'W', 'C', 'O', 'G', 'H', 'W', 'M', 'R', 'T', 'Q', 'W', 'S', 'E', 'A', 'W', 'I', 'V', 'T', 'O', 'I', 'K', 'T', 'C', 'B', 'X', 'R', 'R', 'E', 'P', 'J', 'N', 'I', 'T', 'U', 'H', 'F', 'C', 'H', 'M', 'D', 'B', 'D', 'R', 'K', 'R', 'J', 'K', 'O', 'E', 'B', 'F', 'P', 'J', 'B', 'U', 'A', 'M', 'R', 'P', 'X', 'K', 'D', 'C', 'R', 'V', 'W', 'G', 'N', 'S', 'I', 'I', 'E', 'L', 'V', 'F', 'E', 'R', 'I', 'A', 'V', 'L', 'X', 'S', 'O', 'U', 'S', 'Y', 'D', 'X', 'G', 'L', 'X', 'M', 'V', 'O', 'E', 'P', 'H', 'A', 'E', 'X', 'K', 'E', 'E', 'G', 'Y', 'P', 'I', 'Z', 'O', 'M', 'W', 'E', 'R', 'U', 'E', 'U', 'H', 'Q', 'V', 'L', 'R', 'H', 'B', 'R', 'P', 'Y', 'S', 'E', 'Q', 'Z', 'C', 'M', 'R', 'Q', 'X', 'Q', 'W', 'Q', 'Z', 'X', 'S', 'O', 'A', 'H', 'M', 'L', 'X', 'T', 'I', 'G', 'S', 'W', 'E', 'L', 'X', 'G', 'N', 'S', 'W', 'K', 'L', 'I', 'G', 'K', 'X', 'W', 'P', 'Q', 'E', 'K', 'X', 'T', 'R', 'U', 'W', 'R', 'H', 'Q', 'Z', 'N', 'A', 'E', 'F', 'I', 'S', 'P', 'T', 'T', 'M', 'L', 'T', 'D', 'R', 'I', 'M', 'L', 'I', 'F', 'Q', 'H', 'C', 'S', 'B', 'I', 'X', 'C', 'N', 'P', 'Q', 'Y', 'U', 'E', 'E', 'H', 'H', 'D', 'R', 'A', 'U', 'M', 'D', 'D', 'N', 'B', 'W', 'A', 'O', 'Z', 'A', 'X', 'C', 'S', 'H', 'V', 'B', 'K', 'O', 'E', 'B', 'B', 'B', 'P', 'B', 'U', 'X', 'Y', 'N', 'F', 'T', 'R', 'B', 'A', 'A', 'B', 'W', 'R', 'U', 'P', 'M', 'G', 'I', 'S', 'J', 'H', 'V', 'C', 'D', 'D', 'Q', 'E', 'A', 'E', 'Q', 'R', 'R', 'R', 'H', 'Q', 'Z', 'N', 'A', 'E', 'G', 'K', 'E', 'R', 'C', 'Q', 'Z', 'M', 'P', 'I', 'A', 'Z', 'S', 'P', 'D', 'E', 'L', 'H', 'C', 'T', 'P', 'R', 'Y', 'L', 'T', 'G', 'A', 'N', 'P', 'L', 'Y', 'B', 'E', 'P', 'T', 'U', 'K', 'E', 'T', 'S', 'A', 'D', 'Q', 'C', 'L', 'K', 'I', 'T', 'C', 'T', 'U', 'H', 'F', 'S', 'T', 'J', 'A', 'H', 'B', 'E', 'G', 'L', 'Q', 'C', 'S', 'M', 'T', 'L', 'D', 'O', 'G', 'K', 'I', 'P', 'S', 'E', 'C', 'V', 'W', 'A', 'F', 'F', 'S', 'L', 'J', 'G', 'V', 'V', 'I', 'I', 'B', 'Q', 'W', 'D', 'O', 'D', 'M', 'Q', 'P', 'M', 'C', 'O', 'I', 'Y', 'N', 'P', 'W', 'K', 'Q', 'U', 'G', 'D', 'R', 'B', 'S', 'A', 'U', 'X', 'E', 'R', 'R', 'S', 'S', 'Q', 'I', 'F', 'Q', 'H', 'C', 'S', 'H', 'V', 'Y', 'Y', 'L', 'X', 'G', 'M', 'D', 'O', 'S', 'K', 'C', 'N', 'H', 'Q', 'V', 'T', 'I', 'E', 'Q', 'S', 'I', 'P', 'M', 'M', 'V', 'X', 'C', 'T', 'K', 'F', 'S', 'K', 'P', 'A', 'C', 'G', 'S', 'S', 'F', 'X', 'G', 'F', 'A', 'E', 'N', 'H', 'A', 'L', 'B', 'Z', 'Y', 'N', 'N', 'A', 'C', 'G', 'D', 'R', 'Y', 'R', 'R', 'E', 'T', 'Q', 'Z', 'F', 'P', 'D', 'W', 'H', 'G', 'R', 'I', 'H', 'M', 'P', 'T', 'R', 'R', 'F', 'S', 'S', 'N', 'F', 'M', 'W', 'P', 'S', 'B', 'Q', 'I', 'U', 'O', 'D', 'L', 'M', 'D', 'S', 'N', 'Y', 'I', 'R', 'H', 'Q', 'B', 'B', 'B', 'E', 'N', 'Q', 'H', 'C', 'F', 'R', 'W', 'K', 'I', 'O', 'S', 'F', 'S', 'S', 'N', 'F', 'Q', 'G', 'V', 'X', 'J', 'R', 'V', 'B', 'B', 'K', 'E', 'H', 'G', 'D', 'B', 'I', 'X', 'C', 'N', 'M', 'Z', 'N', 'A', 'E', 'B', 'I', 'X', 'F', 'U', 'Y', 'J', 'Y', 'D', 'R', 'G', 'K', 'I', 'Y', 'V', 'Q', 'Z', 'T', 'V', 'E', 'A', 'X', 'Q', 'Z', 'E', 'D', 'W', 'Y', 'L', 'O', 'E', 'G', 'W', 'N', 'E', 'D', 'T', 'B', 'C', 'E', 'J', 'D', 'W', 'S', 'S', 'Q', 'L', 'L', 'J', 'C', 'U', 'D', 'W', 'I', 'J', 'I', 'W', 'K', 'S', 'S', 'C', 'H', 'V', 'J', 'I', 'Z', 'M', 'M', 'W', 'E', 'F', 'H', 'V', 'S', 'L', 'Q', 'A', 'Q', 'W', 'A', 'I', 'H', 'J', 'Y', 'L', 'X', 'M', 'G', 'Q', 'Y', 'G', 'K', 'I', 'U', 'A', 'K', 'A', 'B', 'S', 'E', 'V', 'Q', 'X', 'F', 'E', 'I', 'W', 'K', 'S', 'P', 'E', 'R', 'G', 'C', 'S', 'E', 'Q', 'G', 'V', 'E', 'E', 'D', 'X', 'F', 'E', 'I', 'W', 'K', 'S', 'C', 'B', 'X', 'R', 'R', 'F', 'Q', 'I', 'M', 'J', 'R', 'R', 'R', 'J', 'Q', 'U', 'O', 'P', 'L', 'D', 'F', 'G', 'Z', 'E', 'P', 'E', 'I', 'P', 'B', 'R', 'H', 'S', 'R', 'P', 'J', 'O', 'I', 'A', 'M', 'W', 'E', 'G', 'H', 'B', 'R', 'X', 'E', 'M', 'Z', 'B', 'E', 'A', 'W', 'E', 'R', 'I', 'A', 'V', 'K', 'J', 'L', 'R', 'V', 'Q', 'C', 'N', 'F', 'Q', 'H', 'C', 'E', 'Q', 'H', 'E', 'P', 'L', 'U', 'M', 'K', 'X', 'S', 'A', 'R', 'A', 'R', 'H', 'Q', 'A', 'M', 'P', 'N', 'Q', 'D', 'V', 'B', 'A', 'D', 'J', 'B', 'I', 'E', 'E', 'E', 'I', 'A', 'A', 'G', 'A', 'X', 'X', 'T', 'V', 'V', 'P', 'Y', 'R', 'S', 'M', 'E', 'N', 'C', 'B', 'Q', 'W', 'G', 'S', 'F', 'M', 'G', 'I', 'A', 'P', 'U', 'S', 'Q', 'S', 'P', 'W', 'V', 'J', 'M', 'R', 'Q', 'X', 'Q', 'A', 'Z', 'L', 'Q', 'P', 'P', 'C', 'O', 'M', 'A', 'A', 'F', 'Q', 'H', 'C', 'S', 'N', 'Q', 'H', 'Z', 'E', 'O', 'I', 'N', 'H', 'E', 'V', 'W', 'M', 'Q', 'F', 'M', 'A', 'M', 'T', 'F', 'S', 'R', 'V', 'R', 'L', 'Q', 'A', 'L', 'P', 'N', 'Q', 'F', 'S', 'Q', 'T', 'X', 'M', 'L', 'H', 'A', 'Y', 'U', 'I', 'Y', 'D', 'K', 'Q', 'G', 'R', 'L', 'H', 'G', 'I', 'B', 'W', 'U', 'B', 'A', 'I', 'H', 'R', 'D', 'T', 'N', 'L', 'U', 'K', 'T', 'I', 'I', 'B', 'Q', 'E', 'Q', 'F', 'A', 'Z', 'P', 'W', 'I', 'P', 'K', 'W', 'C', 'C', 'F', 'Q', 'H', 'C', 'S', 'B', 'I', 'B', 'Y', 'D', 'A', 'K', 'N', 'B', 'E', 'A', 'W', 'G', 'M', 'U', 'Z', 'B', 'M', 'D', 'W', 'N', 'U', 'H', 'R', 'H', 'Q', 'B', 'H', 'I', 'A', 'Y', 'V', 'Y', 'A', 'H', 'M', 'A', 'Y', 'D', 'O', 'G', 'Q', 'S', 'R', 'E', 'E', 'M', 'G', 'S', 'N', 'B', 'W', 'I', 'Q', 'A', 'N', 'A', 'M', 'G', 'A', 'P', 'W', 'W', 'P', 'E', 'R', 'M', 'K', 'T', 'N', 'P', 'H', 'P', 'G', 'S', 'F', 'A', 'T', 'C', 'D', 'O', 'L', 'F', 'J', 'I', 'A', 'O', 'K', 'P', 'P', 'U', 'L', 'I', 'Q', 'T', 'M', 'J', 'E', 'T', 'S', 'S', 'L', 'K', 'S', 'R', 'Q', 'F', 'V', 'P', 'P', 'G', 'L', 'S', 'L', 'S', 'T', 'Q', 'W', 'S', 'E', 'A', 'W', 'I', 'V', 'T', 'F', 'P', 'X', 'E', 'E', 'E', 'V', 'S', 'L', 'I', 'Z', 'K', 'A', 'P', 'R', 'T', 'H', 'X', 'C', 'A', 'O', 'P', 'X', 'G', 'C', 'Y', 'L', 'I', 'L', 'T', 'O', 'I', 'G', 'S', 'E', 'S', 'L', 'R', 'C', 'T', 'T', 'M', 'B', 'G', 'C', 'U', 'R', 'M', 'A', 'E', 'M', 'V', 'W', 'J', 'S', 'R', 'U', 'W', 'Q', 'T', 'G', 'L', 'X', 'C', 'T', 'F', 'Z', 'S', 'P', 'K', 'Q', 'Z', 'L', 'R', 'A', 'A', 'V', 'M', 'K', 'P', 'X', 'G', 'Q', 'H', 'E', 'Y', 'H', 'G', 'R', 'O', 'D', 'M', 'Q', 'R', 'L', 'H', 'G', 'I', 'R', 'H', 'Q', 'M', 'E', 'T', 'M', 'R', 'Q', 'X', 'Q', 'A', 'O', 'K', 'H', 'G', 'D', 'V', 'Q', 'K', 'J', 'Y', 'M', 'V', 'W', 'L', 'A', 'G', 'F', 'L', 'R', 'H', 'Q', 'E', 'H', 'G', 'D', 'P', 'R', 'Y', 'L', 'T', 'M', 'C', 'M', 'D', 'M', 'N', 'W', 'M', 'A', 'A', 'X', 'T', 'R', 'J', 'P', 'Q', 'D', 'X', 'C', 'S', 'A', 'N', 'M', 'L', 'A', 'E', 'H', 'Q', 'M', 'D', 'Q', 'Z', 'G', 'L', 'E', 'O', 'E', 'V', 'M', 'W', 'E', 'M', 'K', 'H', 'X', 'F', 'X', 'T', 'N', 'O', 'D', 'B', 'P', 'D', 'R', 'Q', 'F', 'S', 'S', 'N', 'F', 'Q', 'G', 'V', 'V', 'V', 'D', 'I', 'V', 'T', 'Q', 'V', 'L', 'X', 'O', 'A', 'V', 'Z', 'G', 'A', 'M', 'R', 'T', 'K', 'A', 'F', 'F', 'V', 'G', 'P', 'F', 'J', 'H', 'D', 'K', 'Z', 'D', 'V', 'I', 'L', 'Q', 'B', 'H', 'G', 'A', 'F', 'F', 'V', 'G', 'P', 'F', 'B', 'A', 'P', 'T', 'V', 'V', 'L', 'M', 'S', 'F', 'M', 'W', 'X', 'N', 'N', 'Z', 'I', 'Z', 'S', 'U', 'B', 'X', 'B', 'O', 'F', 'W', 'A', 'M', 'R', 'P', 'F', 'I', 'G', 'O', 'P', 'H', 'W', 'Q', 'O', 'D', 'A', 'V', 'P', 'N', 'N', 'O', 'W', 'M', 'C', 'A', 'C', 'G', 'I', 'W', 'B', 'U', 'H', 'Q', 'U', 'Z', 'Q', 'Q', 'A', 'I', 'X', 'H', 'W', 'W', 'S', 'F', 'M', 'F', 'H', 'I', 'A', 'F', 'P', 'S', 'D', 'Q', 'I', 'I', 'G', 'O', 'T', 'U', 'E', 'K', 'W', 'O', 'A', 'I', 'T', 'C', 'V', 'I', 'M', 'A', 'A', 'X', 'T', 'R', 'U', 'O', 'E', 'Z', 'S', 'P', 'D', 'O', 'W', 'N', 'C', 'T', 'V', 'Q', 'K', 'V', 'A', 'E', 'M', 'Q', 'E', 'L', 'N', 'L', 'R', 'C', 'D', 'Q', 'I', 'K', 'A', 'I', 'R', 'U', 'H', 'G', 'F', 'R', 'M', 'K', 'T', 'N', 'G', 'Z', 'S', 'P', 'D', 'O', 'W', 'N', 'C', 'T', 'V', 'Q', 'K', 'N', 'R', 'A', 'O', 'K', 'P', 'M', 'F', 'P', 'E', 'W', 'G', 'U', 'D', 'X', 'K', 'A', 'E', 'B', 'M', 'L', 'G', 'D', 'M', 'L', 'J', 'L', 'G', 'V', 'H', 'C', 'P', 'Q', 'V', 'W', 'X', 'N', 'T', 'R', 'R', 'R', 'H', 'Q', 'B', 'X', 'M', 'T', 'F', 'H', 'K', 'K', 'E', 'Z', 'B', 'T', 'I', 'I', 'B', 'Q', 'V', 'S', 'L', 'Q', 'F', 'W', 'T', 'T', 'N', 'L', 'P', 'Q', 'T', 'T', 'M', 'X', 'M', 'A', 'P', 'W', 'R', 'S', 'M', 'N', 'M', 'K', 'D', 'F', 'J', 'R', 'V', 'B', 'S', 'A', 'N', 'M', 'T', 'N', 'V', 'V', 'R', 'M', 'T', 'M', 'A', 'M', 'G', 'I', 'P', 'W', 'V', 'C', 'Q', 'G', 'Q', 'K', 'T', 'M', 'R', 'Q', 'X', 'R', 'H', 'G', 'A', 'M', 'W', 'E', 'I', 'D', 'V', 'G', 'A', 'F', 'Q', 'H', 'C', 'I', 'F', 'D', 'G', 'A', 'E', 'B', 'B', 'T', 'Q', 'L', 'R', 'A', 'M', 'L', 'F', 'U', 'K', 'M', 'X', 'O', 'A', 'Q', 'S', 'T', 'E', 'X', 'Q', 'L', 'I', 'J', 'N', 'Q', 'I', 'Q', 'M', 'U', 'T', 'X', 'N', 'S', 'H', 'J', 'K', 'C', 'S', 'F', 'A', 'M', 'W', 'A', 'G', 'O', 'I', 'L', 'G', 'F', 'P', 'B', 'H', 'A', 'A', 'L', 'Q', 'N', 'O', 'D', 'B', 'T', 'C', 'T', 'D', 'X', 'E', 'J', 'I', 'F', 'G', 'H', 'U', 'T', 'U', 'H', 'R', 'M', 'V', 'Q', 'T', 'A', 'D', 'W', 'R', 'Y', 'I', 'P', 'N', 'A', 'D', 'X', 'A', 'S', 'P', 'D', 'R', 'T', 'A', 'D', 'G', 'Q', 'I', 'R', 'R', 'P', 'I', 'L', 'D', 'A', 'C', 'L', 'A', 'Y', 'V', 'Q', 'P', 'C', 'N', 'S', 'B', 'A', 'H', 'M', 'V', 'O', 'I', 'W', 'L', 'U', 'A', 'M', 'H', 'N', 'B', 'Y', 'I', 'J', 'S', 'M', 'A', 'M', 'N', 'P', 'V', 'F', 'E', 'J', 'L', 'K', 'J', 'X', 'X', 'N', 'T', 'E', 'I', 'R', 'W', 'Q', 'M', 'G', 'P', 'N', 'Q', 'Z', 'S', 'P', 'D', 'E', 'E', 'A', 'X', 'L', 'R', 'Q', 'E', 'R', 'I', 'A', 'V', 'T', 'A', 'N', 'B', 'Y', 'I', 'J', 'W', 'D', 'Q', 'M', 'X', 'N', 'T', 'P', 'S', 'L', 'T', 'T', 'F', 'K', 'T', 'Q', 'H', 'L', 'V', 'C', 'S', 'U', 'B', 'L', 'C', 'O', 'I', 'H', 'P', 'Q', 'T', 'A', 'J', 'X', 'P', 'T', 'Y', 'H', 'E', 'Q', 'T', 'I', 'W', 'K', 'S', 'S', 'G', 'K', 'I', 'P', 'E', 'M', 'Z', 'X', 'C', 'O', 'S', 'L', 'V', 'K', 'R', 'G', 'T', 'X', 'H', 'F', 'B', 'U', 'I', 'V', 'A', 'Y', 'X', 'E', 'T', 'T', 'U', 'H', 'F', 'M', 'U', 'Z', 'L', 'T', 'G', 'Y', 'O', 'H', 'X', 'U', 'E', 'Q', 'V', 'T', 'C', 'O', 'I', 'H', 'P', 'J', 'A', 'M', 'V', 'W', 'P', 'N', 'B', 'Y', 'I', 'J', 'X', 'U', 'A', 'T', 'G', 'B', 'V', 'W', 'V', 'Y', 'R', 'K', 'I', 'G', 'S', 'A', 'Y', 'L', 'X', 'C', 'R', 'M', 'Z', 'R', 'L', 'O', 'E', 'N', 'Q', 'Y', 'Y', 'N', 'M', 'W', 'X', 'F', 'S', 'L', 'G', 'S', 'L', 'F', 'B', 'H', 'R', 'A', 'G', 'H', 'K', 'M', 'R', 'U', 'A', 'X', 'Q', 'U', 'G', 'Z', 'L', 'G', 'L', 'Q', 'B', 'A', 'T', 'L', 'R', 'Q', 'K', 'R', 'H', 'A', 'N', 'T', 'C', 'O', 'I', 'H', 'P', 'G', 'S', 'F', 'W', 'T', 'A', 'A', 'E', 'J', 'I', 'C', 'X', 'F', 'M', 'G', 'I', 'U', 'C', 'A', 'X', 'M', 'I', 'F', 'A', 'P', 'G', 'I', 'G', 'H', 'V', 'J', 'E', 'Z', 'O', 'M', 'W', 'S', 'Z', 'D', 'C', 'Y', 'L', 'E', 'W', 'O', 'P', 'R', 'L', 'E', 'C', 'Q', 'U', 'N', 'O', 'X', 'C', 'R', 'R', 'P', 'E', 'L', 'Y', 'O', 'P', 'T', 'E', 'T', 'R', 'U', 'F', 'M', 'O', 'W', 'A', 'Y', 'D', 'R', 'P', 'K', 'M', 'J', 'D', 'D', 'M', 'G', 'H', 'T', 'N', 'U', 'X', 'Y', 'T', 'M', 'T', 'X', 'C', 'G', 'G', 'K', 'S', 'D', 'A', 'N', 'W', 'N', 'I', 'W', 'B', 'U', 'H', 'Q', 'A', 'Z', 'L', 'T', 'M', 'T', 'L', 'S', 'M', 'A', 'A', 'X', 'U', 'R', 'H', 'T', 'R', 'U', 'C', 'L', 'O', 'H', 'M', 'E', 'B', 'I', 'T', 'K', 'X', 'Z', 'E', 'U', 'V', 'M', 'W', 'E', 'G', 'R', 'A', 'M', 'R', 'P', 'Z', 'T', 'C', 'G', 'R', 'Z', 'L', 'G', 'L', 'Q', 'I', 'M', 'W', 'R', 'V', 'O', 'P', 'C', 'R', 'O', 'W', 'N', 'A', 'D', 'O', 'H', 'S', 'T', 'E', 'D', 'E', 'H', 'G', 'D', 'F', 'A', 'X', 'F', 'E', 'E', 'K', 'B', 'T', 'N', 'P', 'H', 'J', 'G', 'C', 'F', 'Q', 'H', 'C', 'A', 'A', 'G', 'J', 'Y', 'N', 'F', 'I', 'L', 'N', 'W', 'E', 'L', 'X', 'C', 'R', 'E', 'W', 'Y', 'P', 'M', 'R', 'U', 'M', 'A', 'A', 'E', 'X', 'X', 'R', 'I', 'S', 'L', 'I', 'Q', 'W', 'A', 'Z', 'W', 'A', 'E', 'A', 'J', 'X', 'F', 'S', 'R', 'W', 'K', 'T', 'A', 'P', 'K', 'G', 'Y', 'T', 'Q', 'O', 'H', 'G', 'Y', 'B', 'I', 'M', 'R', 'S', 'Z', 'M', 'U', 'J', 'L', 'N', 'D', 'A', 'Y', 'R', 'P', 'K', 'T', 'I', 'E', 'T', 'R', 'V', 'G', 'E', 'E', 'F', 'V', 'A', 'A', 'F', 'V', 'M', 'D', 'I', 'O', 'I', 'M', 'X', 'O', 'A', 'Z', 'A', 'M', 'R', 'P', 'K', 'H', 'J', 'N', 'G', 'Q', 'S', 'T', 'E', 'X', 'W', 'O', 'T', 'R', 'J', 'R', 'V', 'B', 'S', 'Z', 'W', 'O', 'T', 'L', 'Y', 'D', 'X', 'M', 'W', 'A', 'Z', 'W', 'H', 'N', 'B', 'Y', 'I', 'J', 'E', 'F', 'B', 'X', 'I', 'O', 'J', 'R', 'V', 'B', 'S', 'E', 'P', 'H', 'G', 'T', 'F', 'W', 'S', 'P', 'Y', 'G', 'V', 'W', 'T', 'R', 'J', 'R', 'V', 'B', 'S', 'J', 'Q', 'G', 'C', 'O', 'A', 'I', 'M', 'A', 'T', 'U', 'W', 'G', 'I', 'H', 'R', 'D', 'G', 'A', 'E', 'B', 'B', 'T', 'Q', 'L', 'R', 'O', 'I', 'L', 'G', 'F', 'P', 'H', 'U', 'A', 'A', 'D', 'G', 'Y', 'D', 'Q', 'U', 'B', 'R', 'D', 'V', 'V', 'W', 'C', 'R', 'F', 'I', 'M', 'X', 'O', 'A', 'Y', 'E', 'P', 'I', 'Q', 'A', 'Z', 'G', 'E', 'N', 'W', 'P', 'W', 'D', 'Q', 'X', 'X', 'C', 'D', 'R', 'Q', 'X', 'N', 'R', 'Q', 'L', 'H', 'B', 'I', 'A', 'D', 'R', 'R', 'L', 'K', 'W', 'G', 'I', 'H', 'R', 'V', 'Y', 'Z', 'J', 'Q', 'K', 'M', 'M', 'N', 'H', 'P', 'I', 'P', 'O', 'G', 'A', 'T', 'B', 'E', 'E', 'L', 'G', 'Y', 'N', 'G', 'V', 'B', 'K', 'E', 'E', 'V', 'M', 'R', 'I', 'Q', 'A', 'E', 'X', 'M', 'V', 'W', 'T', 'F', 'D', 'P', 'Q', 'L', 'H', 'E', 'E', 'W', 'E', 'R', 'I', 'A', 'V', 'L', 'I', 'O', 'N', 'W', 'Q', 'M', 'S', 'F', 'E', 'H', 'G', 'D', 'F', 'E', 'E', 'P', 'R', 'U', 'V', 'Z', 'H', 'P', 'R', 'F', 'M', 'Y', 'L', 'B', 'M', 'K', 'B', 'I', 'F', 'V', 'M', 'M', 'N', 'R', 'W', 'K', 'T', 'X', 'P', 'H', 'I', 'B', 'I', 'Z', 'O', 'M', 'W', 'I', 'F', 'O', 'M', 'K', 'I', 'F']\n",
            "AMITPANDEYAMITPANDEYAMITPANDEYAMITPANDEYAMITPANDEYAMITPANDEYAMITPANDEYAMITPANDEYAMITPANDEYAMITPANDEYAMITPANDEYAMITPANDEYAMITPANDEYAMITPANDEYAMITPANDEYAMITPANDEYAMITPANDEYAMITPANDEYAMITPANDEYAMITPANDEYAMITPANDEYAMITPANDEYAMITPANDEYAMITPANDEYAMITPANDEYAMITPANDEYAMITPANDEYAMITPANDEYAMITPANDEYAMITPANDEYAMITPANDEYAMITPANDEYAMITPANDEYAMITPANDEYAMITPANDEYAMITPANDEYAMITPANDEYAMITPANDEYAMITPANDEYAMITPANDEYAMITPANDEYAMITPANDEYAMITPANDEYAMITPANDEYAMITPANDEYAMITPANDEYAMITPANDEYAMITPANDEYAMITPANDEYAMITPANDEYAMITPANDEYAMITPANDEYAMITPANDEYAMITPANDEYAMITPANDEYAMITPANDEYAMITPANDEYAMITPANDEYAMITPANDEYAMITPANDEYAMITPANDEYAMITPANDEYAMITPANDEYAMITPANDEYAMITPANDEYAMITPANDEYAMITPANDEYAMITPANDEYAMITPANDEYAMITPANDEYAMITPANDEYAMITPANDEYAMITPANDEYAMITPANDEYAMITPANDEYAMITPANDEYAMITPANDEYAMITPANDEYAMITPANDEYAMITPANDEYAMITPANDEYAMITPANDEYAMITPANDEYAMITPANDEYAMITPANDEYAMITPANDEYAMITPANDEYAMITPANDEYAMITPANDEYAMITPANDEYAMITPANDEYAMITPANDEYAMITPANDEYAMITPANDEYAMITPANDEYAMITPANDEYAMITPANDEYAMITPANDEYAMITPANDEYAMITPANDEYAMITPANDEYAMITPANDEYAMITPANDEYAMITPANDEYAMITPANDEYAMITPANDEYAMITPANDEYAMITPANDEYAMITPANDEYAMITPANDEYAMITPANDEYAMITPANDEYAMITPANDEYAMITPANDEYAMITPANDEYAMITPANDEYAMITPANDEYAMITPANDEYAMITPANDEYAMITPANDEYAMITPANDEYAMITPANDEYAMITPANDEYAMITPANDEYAMITPANDEYAMITPANDEYAMITPANDEYAMITPANDEYAMITPANDEYAMITPANDEYAMITPANDEYAMITPANDEYAMITPANDEYAMITPANDEYAMITPANDEYAMITPANDEYAMITPANDEYAMITPANDEYAMITPANDEYAMITPANDEYAMITPANDEYAMITPANDEYAMITPANDEYAMITPANDEYAMITPANDEYAMITPANDEYAMITPANDEYAMITPANDEYAMITPANDEYAMITPANDEYAMITPANDEYAMITPANDEYAMITPANDEYAMITPANDEYAMITPANDEYAMITPANDEYAMITPANDEYAMITPANDEYAMITPANDEYAMITPANDEYAMITPANDEYAMITPANDEYAMITPANDEYAMITPANDEYAMITPANDEYAMITPANDEYAMITPANDEYAMITPANDEYAMITPANDEYAMITPANDEYAMITPANDEYAMITPANDEYAMITPANDEYAMITPANDEYAMITPANDEYAMITPANDEYAMITPANDEYAMITPANDEYAMITPANDEYAMITPANDEYAMITPANDEYAMITPANDEYAMITPANDEYAMITPANDEYAMITPANDEYAMITPANDEYAMITPANDEYAMITPANDEYAMITPANDEYAMITPANDEYAMITPANDEYAMITPANDEYAMITPANDEYAMITPANDEYAMITPANDEYAMITPANDEYAMITPANDEYAMITPANDEYAMITPANDEYAMITPANDEYAMITPANDEYAMITPANDEYAMITPANDEYAMITPANDEYAMITPANDEYAMITPANDEYAMITPANDEYAMITPANDEYAMITPANDEYAMITPANDEYAMITPANDEYAMITPANDEYAMITPANDEYAMITPANDEYAMITPANDEYAMITPANDEYAMITPANDEYAMITPANDEYAMITPANDEYAMITPANDEYAMITPANDEYAMITPANDEYAMITPANDEYAMITPANDEYAMITPANDEYAMITPANDEYAMITPANDEYAMITPANDEYAMITPANDEYAMITPANDEYAMITPANDEYAMITPANDEYAMITPANDEYAMITPANDEYAMITPANDEYAMITPANDEYAMITPANDEYAMITPANDEYAMITPANDEYAMITPANDEYAMITPANDEYAMITPANDEYAMITPANDEYAMITPANDEYAMITPANDEYAMITPANDEYAMITPANDEYAMITPANDEYAMITPANDEYAMITPANDEYAMITPANDEYAMITPANDEYAMITPANDEYAMITPANDEYAMITPANDEYAMITPANDEYAMITPANDEYAMITPANDEYAMITPANDEYAMITPANDEYAMITPANDEYAMITPANDEYAMITPANDEYAMITPANDEYAMITPANDEYAMITPANDEYAMITPANDEYAMITPANDEYAMITPANDEYAMITPANDEYAMITPANDEYAMITPANDEYAMITPANDEYAMITPANDEYAMITPANDEYAMITPANDEYAMITPANDEYAMITPANDEYAMITPANDEYAMITPANDEYAMITPANDEYAMITPANDEYAMITPANDEYAMITPANDEYAMITPANDEYAMITPANDEYAMITPANDEYAMITPANDEYAMITPANDEYAMITPANDEYAMITPANDEYAMITPANDEYAMITPANDEYAMITPANDEYAMITPANDEYAMITPANDEYAMITPANDEYAMITPANDEYAMITPANDEYAMITPANDEYAMITPANDEYAMITPANDEYAMITPANDEYAMITPANDEYAMITPANDEYAMITPANDEYAMITPANDEYAMITPANDEYAMITPANDEYAMITPANDEYAMITPANDEYAMITPANDEYAMITPANDEYAMITPANDEYAMITPANDEYAMITPANDEYAMITPANDEYAMITPANDEYAMITPANDEYAMITPANDEYAMITPANDEYAMITPANDEYAMITPANDEYAMITPANDEYAMITPANDEYAMITPANDEYAMITPANDEYAMITPANDEYAMITPANDEYAMITPANDEYAMITPANDEYAMITPANDEYAMITPANDEYAMITPANDEYAMITPANDEYAMITPANDEYAMITPANDEYAMITPANDEYAMITPANDEYAMITPANDEYAMITPANDEYAMITPANDEYAMITPANDEYAMITPANDEYAMITPANDEYAMITPANDEYAMITPANDEYAMITPANDEYAMITPANDEYAMITPANDEYAMITPANDEYAMITPANDEYAMITPANDEYAMITPANDEYAMITPANDEYAMITPANDEYAMITPANDEYAMITPANDEYAMITPANDEYAMITPANDEYAMITPANDEYAMITPANDEYAMITPANDEYAMITPANDEYAMITPANDEYAMITPANDEYAMITPANDEYAMITPANDEYAMITPANDEYAMITPANDEYAMITPANDEYAMITPANDEYAMITPANDEYAMITPANDEYAMITPANDEYAMITPANDEYAMITPANDEYAMITPANDEYAMITPANDEYAMITPANDEYAMITPANDEYAMITPANDEYAMITPANDEYAMITPANDEYAMITPANDEYAMITPANDEYAMITPANDEYAMITPANDEYAMITPANDEYAMITPANDEYAMITPANDEYAMITPANDEYAMITPANDEYAMITPANDEYAMITPANDEYAMITPANDEYAMITPANDEYAMITPANDEYAMITPANDEYAMITPANDEYAMITPANDEYAMITPANDEYAMITPANDEYAMITPANDEYAMITPANDEYAMITPANDEYAMITPANDEYAMITPANDEYAMITPANDEYAMITPANDEYAMITPANDEYAMITPANDEYAMITPANDEYAMITPANDEYAMITPANDEYAM\n",
            "4152\n",
            "['W', 'O', 'R', 'D', 'C', 'O', 'U', 'N', 'T', 'F', 'R', 'O', 'M', 'W', 'I', 'K', 'I', 'P', 'E', 'D', 'I', 'A', 'T', 'H', 'E', 'F', 'R', 'E', 'E', 'E', 'N', 'C', 'Y', 'C', 'L', 'O', 'P', 'E', 'D', 'I', 'A', 'X', 'T', 'H', 'E', 'W', 'O', 'R', 'D', 'C', 'O', 'U', 'N', 'T', 'I', 'S', 'T', 'H', 'E', 'N', 'U', 'M', 'B', 'E', 'R', 'O', 'F', 'W', 'O', 'R', 'D', 'S', 'I', 'N', 'A', 'D', 'O', 'C', 'U', 'M', 'E', 'N', 'T', 'O', 'R', 'P', 'A', 'S', 'S', 'A', 'G', 'E', 'O', 'F', 'T', 'E', 'X', 'T', 'W', 'O', 'R', 'D', 'C', 'O', 'U', 'N', 'T', 'I', 'N', 'G', 'M', 'A', 'Y', 'B', 'E', 'N', 'E', 'E', 'D', 'E', 'D', 'W', 'H', 'E', 'N', 'A', 'T', 'E', 'X', 'T', 'X', 'I', 'S', 'R', 'E', 'Q', 'U', 'I', 'R', 'E', 'D', 'T', 'O', 'S', 'T', 'A', 'Y', 'W', 'I', 'T', 'H', 'I', 'N', 'C', 'E', 'R', 'T', 'A', 'I', 'N', 'N', 'U', 'M', 'B', 'E', 'R', 'S', 'O', 'F', 'W', 'O', 'R', 'D', 'S', 'T', 'H', 'I', 'S', 'M', 'A', 'Y', 'P', 'A', 'R', 'T', 'I', 'C', 'U', 'L', 'A', 'R', 'L', 'Y', 'B', 'E', 'T', 'H', 'E', 'C', 'A', 'S', 'E', 'I', 'N', 'A', 'C', 'A', 'D', 'E', 'M', 'I', 'A', 'L', 'E', 'G', 'A', 'L', 'X', 'P', 'R', 'O', 'C', 'E', 'E', 'D', 'I', 'N', 'G', 'S', 'J', 'O', 'U', 'R', 'N', 'A', 'L', 'I', 'S', 'M', 'A', 'N', 'D', 'A', 'D', 'V', 'E', 'R', 'T', 'I', 'S', 'I', 'N', 'G', 'W', 'O', 'R', 'D', 'C', 'O', 'U', 'N', 'T', 'I', 'S', 'C', 'O', 'M', 'M', 'O', 'N', 'L', 'Y', 'U', 'S', 'E', 'D', 'B', 'Y', 'T', 'R', 'A', 'N', 'S', 'L', 'A', 'T', 'O', 'R', 'S', 'T', 'O', 'D', 'E', 'T', 'E', 'R', 'M', 'I', 'N', 'E', 'T', 'H', 'E', 'P', 'R', 'I', 'C', 'E', 'F', 'O', 'R', 'X', 'T', 'H', 'E', 'T', 'R', 'A', 'N', 'S', 'L', 'A', 'T', 'I', 'O', 'N', 'J', 'O', 'B', 'W', 'O', 'R', 'D', 'C', 'O', 'U', 'N', 'T', 'S', 'M', 'A', 'Y', 'A', 'L', 'S', 'O', 'B', 'E', 'U', 'S', 'E', 'D', 'T', 'O', 'C', 'A', 'L', 'C', 'U', 'L', 'A', 'T', 'E', 'M', 'E', 'A', 'S', 'U', 'R', 'E', 'S', 'O', 'F', 'R', 'E', 'A', 'D', 'A', 'B', 'I', 'L', 'I', 'T', 'Y', 'A', 'N', 'D', 'T', 'O', 'M', 'E', 'A', 'S', 'U', 'R', 'E', 'T', 'Y', 'P', 'I', 'N', 'G', 'X', 'A', 'N', 'D', 'R', 'E', 'A', 'D', 'I', 'N', 'G', 'S', 'P', 'E', 'E', 'D', 'S', 'U', 'S', 'U', 'A', 'L', 'L', 'Y', 'I', 'N', 'W', 'O', 'R', 'D', 'S', 'P', 'E', 'R', 'M', 'I', 'N', 'U', 'T', 'E', 'W', 'H', 'E', 'N', 'C', 'O', 'N', 'V', 'E', 'R', 'T', 'I', 'N', 'G', 'C', 'H', 'A', 'R', 'A', 'C', 'T', 'E', 'R', 'C', 'O', 'U', 'N', 'T', 'S', 'T', 'O', 'W', 'O', 'R', 'D', 'S', 'A', 'M', 'E', 'A', 'S', 'U', 'R', 'E', 'O', 'F', 'F', 'I', 'V', 'E', 'O', 'R', 'X', 'S', 'I', 'X', 'C', 'H', 'A', 'R', 'A', 'C', 'T', 'E', 'R', 'S', 'T', 'O', 'A', 'W', 'O', 'R', 'D', 'I', 'S', 'G', 'E', 'N', 'E', 'R', 'A', 'L', 'L', 'Y', 'U', 'S', 'E', 'D', 'C', 'O', 'N', 'T', 'E', 'N', 'T', 'S', 'D', 'E', 'T', 'A', 'I', 'L', 'S', 'A', 'N', 'D', 'V', 'A', 'R', 'I', 'A', 'T', 'I', 'O', 'N', 'S', 'O', 'F', 'D', 'E', 'F', 'I', 'N', 'I', 'T', 'I', 'O', 'N', 'S', 'O', 'F', 'T', 'W', 'A', 'R', 'E', 'I', 'N', 'F', 'I', 'C', 'T', 'I', 'O', 'N', 'X', 'I', 'N', 'N', 'O', 'N', 'F', 'I', 'C', 'T', 'I', 'O', 'N', 'S', 'E', 'E', 'A', 'L', 'S', 'O', 'R', 'E', 'F', 'E', 'R', 'E', 'N', 'C', 'E', 'S', 'S', 'O', 'U', 'R', 'C', 'E', 'S', 'E', 'X', 'T', 'E', 'R', 'N', 'A', 'L', 'L', 'I', 'N', 'K', 'S', 'D', 'E', 'T', 'A', 'I', 'L', 'S', 'A', 'N', 'D', 'V', 'A', 'R', 'I', 'A', 'T', 'I', 'O', 'N', 'S', 'O', 'F', 'D', 'E', 'F', 'I', 'N', 'I', 'T', 'I', 'O', 'N', 'X', 'T', 'H', 'I', 'S', 'S', 'E', 'C', 'T', 'I', 'O', 'N', 'D', 'O', 'E', 'S', 'N', 'O', 'T', 'C', 'I', 'T', 'E', 'A', 'N', 'Y', 'R', 'E', 'F', 'E', 'R', 'E', 'N', 'C', 'E', 'S', 'O', 'R', 'S', 'O', 'U', 'R', 'C', 'E', 'S', 'P', 'L', 'E', 'A', 'S', 'E', 'H', 'E', 'L', 'P', 'I', 'M', 'P', 'R', 'O', 'V', 'E', 'T', 'H', 'I', 'S', 'S', 'E', 'C', 'T', 'I', 'O', 'N', 'B', 'Y', 'A', 'D', 'D', 'I', 'N', 'G', 'C', 'I', 'T', 'A', 'T', 'I', 'O', 'N', 'S', 'T', 'O', 'X', 'R', 'E', 'L', 'I', 'A', 'B', 'L', 'E', 'S', 'O', 'U', 'R', 'C', 'E', 'S', 'U', 'N', 'S', 'O', 'U', 'R', 'C', 'E', 'D', 'M', 'A', 'T', 'E', 'R', 'I', 'A', 'L', 'M', 'A', 'Y', 'B', 'E', 'C', 'H', 'A', 'L', 'L', 'E', 'N', 'G', 'E', 'D', 'A', 'N', 'D', 'R', 'E', 'M', 'O', 'V', 'E', 'D', 'X', 'V', 'A', 'R', 'I', 'A', 'T', 'I', 'O', 'N', 'S', 'I', 'N', 'T', 'H', 'E', 'O', 'P', 'E', 'R', 'A', 'T', 'I', 'O', 'N', 'A', 'L', 'D', 'E', 'F', 'I', 'N', 'I', 'T', 'I', 'O', 'N', 'S', 'O', 'F', 'H', 'O', 'W', 'T', 'O', 'C', 'O', 'U', 'N', 'T', 'T', 'H', 'E', 'W', 'O', 'R', 'D', 'S', 'C', 'A', 'N', 'O', 'C', 'C', 'U', 'R', 'N', 'A', 'M', 'E', 'L', 'Y', 'W', 'H', 'A', 'T', 'C', 'O', 'U', 'N', 'T', 'S', 'A', 'S', 'A', 'W', 'O', 'R', 'D', 'A', 'N', 'D', 'X', 'W', 'H', 'I', 'C', 'H', 'W', 'O', 'R', 'D', 'S', 'D', 'O', 'N', 'T', 'C', 'O', 'U', 'N', 'T', 'T', 'O', 'W', 'A', 'R', 'D', 'T', 'H', 'E', 'T', 'O', 'T', 'A', 'L', 'H', 'O', 'W', 'E', 'V', 'E', 'R', 'E', 'S', 'P', 'E', 'C', 'I', 'A', 'L', 'L', 'Y', 'S', 'I', 'N', 'C', 'E', 'T', 'H', 'E', 'A', 'D', 'V', 'E', 'N', 'T', 'O', 'F', 'W', 'I', 'D', 'E', 'S', 'P', 'R', 'E', 'A', 'D', 'W', 'O', 'R', 'D', 'P', 'R', 'O', 'C', 'E', 'S', 'S', 'I', 'N', 'G', 'T', 'H', 'E', 'R', 'E', 'X', 'I', 'S', 'A', 'B', 'R', 'O', 'A', 'D', 'C', 'O', 'N', 'S', 'E', 'N', 'S', 'U', 'S', 'O', 'N', 'T', 'H', 'E', 'S', 'E', 'O', 'P', 'E', 'R', 'A', 'T', 'I', 'O', 'N', 'A', 'L', 'D', 'E', 'F', 'I', 'N', 'I', 'T', 'I', 'O', 'N', 'S', 'A', 'N', 'D', 'H', 'E', 'N', 'C', 'E', 'T', 'H', 'E', 'B', 'O', 'T', 'T', 'O', 'M', 'L', 'I', 'N', 'E', 'I', 'N', 'T', 'E', 'G', 'E', 'R', 'R', 'E', 'S', 'U', 'L', 'T', 'X', 'T', 'H', 'E', 'C', 'O', 'N', 'S', 'E', 'N', 'S', 'U', 'S', 'I', 'S', 'T', 'O', 'A', 'C', 'C', 'E', 'P', 'T', 'T', 'H', 'E', 'T', 'E', 'X', 'T', 'S', 'E', 'G', 'M', 'E', 'N', 'T', 'A', 'T', 'I', 'O', 'N', 'R', 'U', 'L', 'E', 'S', 'G', 'E', 'N', 'E', 'R', 'A', 'L', 'L', 'Y', 'F', 'O', 'U', 'N', 'D', 'I', 'N', 'M', 'O', 'S', 'T', 'W', 'O', 'R', 'D', 'P', 'R', 'O', 'C', 'E', 'S', 'S', 'I', 'N', 'G', 'S', 'O', 'F', 'T', 'W', 'A', 'R', 'E', 'I', 'N', 'C', 'L', 'U', 'D', 'I', 'N', 'G', 'H', 'O', 'W', 'X', 'W', 'O', 'R', 'D', 'B', 'O', 'U', 'N', 'D', 'A', 'R', 'I', 'E', 'S', 'A', 'R', 'E', 'D', 'E', 'T', 'E', 'R', 'M', 'I', 'N', 'E', 'D', 'W', 'H', 'I', 'C', 'H', 'D', 'E', 'P', 'E', 'N', 'D', 'S', 'O', 'N', 'H', 'O', 'W', 'W', 'O', 'R', 'D', 'D', 'I', 'V', 'I', 'D', 'E', 'R', 'S', 'A', 'R', 'E', 'D', 'E', 'F', 'I', 'N', 'E', 'D', 'T', 'H', 'E', 'F', 'I', 'R', 'S', 'T', 'T', 'R', 'A', 'I', 'T', 'O', 'F', 'T', 'H', 'A', 'T', 'D', 'E', 'F', 'I', 'N', 'I', 'T', 'I', 'O', 'N', 'I', 'S', 'T', 'H', 'A', 'T', 'A', 'S', 'P', 'A', 'C', 'E', 'A', 'N', 'Y', 'O', 'F', 'V', 'A', 'R', 'I', 'O', 'U', 'S', 'W', 'H', 'I', 'T', 'E', 'S', 'P', 'A', 'C', 'E', 'X', 'C', 'H', 'A', 'R', 'A', 'C', 'T', 'E', 'R', 'S', 'S', 'U', 'C', 'H', 'A', 'S', 'A', 'R', 'E', 'G', 'U', 'L', 'A', 'R', 'W', 'O', 'R', 'D', 'S', 'P', 'A', 'C', 'E', 'A', 'N', 'E', 'M', 'S', 'P', 'A', 'C', 'E', 'O', 'R', 'A', 'T', 'A', 'B', 'C', 'H', 'A', 'R', 'A', 'C', 'T', 'E', 'R', 'I', 'S', 'A', 'W', 'O', 'R', 'D', 'D', 'I', 'V', 'I', 'D', 'E', 'R', 'U', 'S', 'U', 'A', 'L', 'L', 'Y', 'A', 'H', 'Y', 'P', 'H', 'E', 'N', 'O', 'R', 'A', 'S', 'L', 'A', 'S', 'H', 'I', 'S', 'T', 'O', 'O', 'X', 'D', 'I', 'F', 'F', 'E', 'R', 'E', 'N', 'T', 'W', 'O', 'R', 'D', 'C', 'O', 'U', 'N', 'T', 'I', 'N', 'G', 'P', 'R', 'O', 'G', 'R', 'A', 'M', 'S', 'M', 'A', 'Y', 'G', 'I', 'V', 'E', 'V', 'A', 'R', 'Y', 'I', 'N', 'G', 'R', 'E', 'S', 'U', 'L', 'T', 'S', 'D', 'E', 'P', 'E', 'N', 'D', 'I', 'N', 'G', 'O', 'N', 'T', 'H', 'E', 'T', 'E', 'X', 'T', 'S', 'E', 'G', 'M', 'E', 'N', 'T', 'A', 'T', 'I', 'O', 'N', 'R', 'U', 'L', 'E', 'X', 'D', 'E', 'T', 'A', 'I', 'L', 'S', 'A', 'N', 'D', 'O', 'N', 'W', 'H', 'E', 'T', 'H', 'E', 'R', 'W', 'O', 'R', 'D', 'S', 'O', 'U', 'T', 'S', 'I', 'D', 'E', 'T', 'H', 'E', 'M', 'A', 'I', 'N', 'T', 'E', 'X', 'T', 'S', 'U', 'C', 'H', 'A', 'S', 'F', 'O', 'O', 'T', 'N', 'O', 'T', 'E', 'S', 'E', 'N', 'D', 'N', 'O', 'T', 'E', 'S', 'O', 'R', 'H', 'I', 'D', 'D', 'E', 'N', 'T', 'E', 'X', 'T', 'C', 'A', 'R', 'E', 'C', 'O', 'U', 'N', 'T', 'E', 'D', 'B', 'U', 'T', 'T', 'H', 'E', 'B', 'E', 'H', 'A', 'V', 'I', 'O', 'R', 'X', 'O', 'F', 'M', 'O', 'S', 'T', 'M', 'A', 'J', 'O', 'R', 'W', 'O', 'R', 'D', 'P', 'R', 'O', 'C', 'E', 'S', 'S', 'I', 'N', 'G', 'A', 'P', 'P', 'L', 'I', 'C', 'A', 'T', 'I', 'O', 'N', 'S', 'I', 'S', 'B', 'R', 'O', 'A', 'D', 'L', 'Y', 'S', 'I', 'M', 'I', 'L', 'A', 'R', 'H', 'O', 'W', 'E', 'V', 'E', 'R', 'D', 'U', 'R', 'I', 'N', 'G', 'T', 'H', 'E', 'E', 'R', 'A', 'W', 'H', 'E', 'N', 'S', 'C', 'H', 'O', 'O', 'L', 'A', 'S', 'S', 'I', 'G', 'N', 'M', 'E', 'N', 'T', 'S', 'W', 'E', 'R', 'E', 'D', 'O', 'N', 'E', 'I', 'N', 'X', 'H', 'A', 'N', 'D', 'W', 'R', 'I', 'T', 'I', 'N', 'G', 'O', 'R', 'W', 'I', 'T', 'H', 'T', 'Y', 'P', 'E', 'W', 'R', 'I', 'T', 'E', 'R', 'S', 'T', 'H', 'E', 'R', 'U', 'L', 'E', 'S', 'F', 'O', 'R', 'T', 'H', 'E', 'S', 'E', 'D', 'E', 'F', 'I', 'N', 'I', 'T', 'I', 'O', 'N', 'S', 'O', 'F', 'T', 'E', 'N', 'D', 'I', 'F', 'F', 'E', 'R', 'E', 'D', 'F', 'R', 'O', 'M', 'T', 'O', 'D', 'A', 'Y', 'S', 'C', 'O', 'N', 'S', 'E', 'N', 'S', 'U', 'S', 'X', 'M', 'O', 'S', 'T', 'I', 'M', 'P', 'O', 'R', 'T', 'A', 'N', 'T', 'L', 'Y', 'M', 'A', 'N', 'Y', 'S', 'T', 'U', 'D', 'E', 'N', 'T', 'S', 'W', 'E', 'R', 'E', 'D', 'R', 'I', 'L', 'L', 'E', 'D', 'O', 'N', 'T', 'H', 'E', 'R', 'U', 'L', 'E', 'T', 'H', 'A', 'T', 'C', 'E', 'R', 'T', 'A', 'I', 'N', 'W', 'O', 'R', 'D', 'S', 'D', 'O', 'N', 'T', 'C', 'O', 'U', 'N', 'T', 'U', 'S', 'U', 'A', 'L', 'L', 'Y', 'A', 'R', 'T', 'I', 'C', 'L', 'E', 'S', 'N', 'A', 'M', 'E', 'L', 'Y', 'A', 'A', 'N', 'T', 'H', 'E', 'B', 'U', 'T', 'X', 'S', 'O', 'M', 'E', 'T', 'I', 'M', 'E', 'S', 'A', 'L', 'S', 'O', 'O', 'T', 'H', 'E', 'R', 'S', 'S', 'U', 'C', 'H', 'A', 'S', 'C', 'O', 'N', 'J', 'U', 'N', 'C', 'T', 'I', 'O', 'N', 'S', 'F', 'O', 'R', 'E', 'X', 'A', 'M', 'P', 'L', 'E', 'A', 'N', 'D', 'O', 'R', 'B', 'U', 'T', 'A', 'N', 'D', 'S', 'O', 'M', 'E', 'P', 'R', 'E', 'P', 'O', 'S', 'I', 'T', 'I', 'O', 'N', 'S', 'U', 'S', 'U', 'A', 'L', 'L', 'Y', 'T', 'O', 'O', 'F', 'H', 'Y', 'P', 'H', 'E', 'N', 'A', 'T', 'E', 'D', 'P', 'E', 'R', 'M', 'A', 'N', 'E', 'N', 'T', 'X', 'C', 'O', 'M', 'P', 'O', 'U', 'N', 'D', 'S', 'S', 'U', 'C', 'H', 'A', 'S', 'F', 'O', 'L', 'L', 'O', 'W', 'U', 'P', 'N', 'O', 'U', 'N', 'O', 'R', 'L', 'O', 'N', 'G', 'T', 'E', 'R', 'M', 'A', 'D', 'J', 'E', 'C', 'T', 'I', 'V', 'E', 'W', 'E', 'R', 'E', 'C', 'O', 'U', 'N', 'T', 'E', 'D', 'A', 'S', 'O', 'N', 'E', 'W', 'O', 'R', 'D', 'T', 'O', 'S', 'A', 'V', 'E', 'T', 'H', 'E', 'T', 'I', 'M', 'E', 'A', 'N', 'D', 'E', 'F', 'F', 'O', 'R', 'T', 'O', 'F', 'C', 'O', 'U', 'N', 'T', 'I', 'N', 'G', 'X', 'W', 'O', 'R', 'D', 'B', 'Y', 'W', 'O', 'R', 'D', 'O', 'F', 'T', 'E', 'N', 'A', 'R', 'U', 'L', 'E', 'O', 'F', 'T', 'H', 'U', 'M', 'B', 'F', 'O', 'R', 'T', 'H', 'E', 'A', 'V', 'E', 'R', 'A', 'G', 'E', 'N', 'U', 'M', 'B', 'E', 'R', 'O', 'F', 'W', 'O', 'R', 'D', 'S', 'P', 'E', 'R', 'L', 'I', 'N', 'E', 'W', 'A', 'S', 'U', 'S', 'E', 'D', 'S', 'U', 'C', 'H', 'A', 'S', 'K', 'J', 'W', 'O', 'R', 'D', 'S', 'P', 'E', 'R', 'L', 'I', 'N', 'E', 'T', 'H', 'E', 'S', 'E', 'R', 'U', 'L', 'E', 'S', 'X', 'H', 'A', 'V', 'E', 'F', 'A', 'L', 'L', 'E', 'N', 'B', 'Y', 'T', 'H', 'E', 'W', 'A', 'Y', 'S', 'I', 'D', 'E', 'I', 'N', 'T', 'H', 'E', 'W', 'O', 'R', 'D', 'P', 'R', 'O', 'C', 'E', 'S', 'S', 'I', 'N', 'G', 'E', 'R', 'A', 'T', 'H', 'E', 'W', 'O', 'R', 'D', 'C', 'O', 'U', 'N', 'T', 'F', 'E', 'A', 'T', 'U', 'R', 'E', 'O', 'F', 'S', 'U', 'C', 'H', 'S', 'O', 'F', 'T', 'W', 'A', 'R', 'E', 'W', 'H', 'I', 'C', 'H', 'F', 'O', 'L', 'L', 'O', 'W', 'S', 'T', 'H', 'E', 'T', 'E', 'X', 'T', 'X', 'S', 'E', 'G', 'M', 'E', 'N', 'T', 'A', 'T', 'I', 'O', 'N', 'R', 'U', 'L', 'E', 'S', 'M', 'E', 'N', 'T', 'I', 'O', 'N', 'E', 'D', 'E', 'A', 'R', 'L', 'I', 'E', 'R', 'I', 'S', 'N', 'O', 'W', 'T', 'H', 'E', 'S', 'T', 'A', 'N', 'D', 'A', 'R', 'D', 'A', 'R', 'B', 'I', 'T', 'E', 'R', 'B', 'E', 'C', 'A', 'U', 'S', 'E', 'I', 'T', 'I', 'S', 'L', 'A', 'R', 'G', 'E', 'L', 'Y', 'C', 'O', 'N', 'S', 'I', 'S', 'T', 'E', 'N', 'T', 'A', 'C', 'R', 'O', 'S', 'S', 'D', 'O', 'C', 'U', 'M', 'E', 'N', 'T', 'S', 'A', 'N', 'D', 'X', 'A', 'P', 'P', 'L', 'I', 'C', 'A', 'T', 'I', 'O', 'N', 'S', 'A', 'N', 'D', 'B', 'E', 'C', 'A', 'U', 'S', 'E', 'I', 'T', 'I', 'S', 'F', 'A', 'S', 'T', 'E', 'F', 'F', 'O', 'R', 'T', 'L', 'E', 'S', 'S', 'A', 'N', 'D', 'C', 'O', 'S', 'T', 'L', 'E', 'S', 'S', 'A', 'L', 'R', 'E', 'A', 'D', 'Y', 'I', 'N', 'C', 'L', 'U', 'D', 'E', 'D', 'W', 'I', 'T', 'H', 'T', 'H', 'E', 'A', 'P', 'P', 'L', 'I', 'C', 'A', 'T', 'I', 'O', 'N', 'A', 'S', 'F', 'O', 'R', 'W', 'H', 'I', 'C', 'H', 'S', 'E', 'C', 'T', 'I', 'O', 'N', 'S', 'O', 'F', 'X', 'A', 'D', 'O', 'C', 'U', 'M', 'E', 'N', 'T', 'C', 'O', 'U', 'N', 'T', 'T', 'O', 'W', 'A', 'R', 'D', 'T', 'H', 'E', 'T', 'O', 'T', 'A', 'L', 'S', 'U', 'C', 'H', 'A', 'S', 'F', 'O', 'O', 'T', 'N', 'O', 'T', 'E', 'S', 'E', 'N', 'D', 'N', 'O', 'T', 'E', 'S', 'A', 'B', 'S', 'T', 'R', 'A', 'C', 'T', 'S', 'R', 'E', 'F', 'E', 'R', 'E', 'N', 'C', 'E', 'L', 'I', 'S', 'T', 'S', 'A', 'N', 'D', 'B', 'I', 'B', 'L', 'I', 'O', 'G', 'R', 'A', 'P', 'H', 'I', 'E', 'S', 'T', 'A', 'B', 'L', 'E', 'S', 'F', 'I', 'G', 'U', 'R', 'E', 'X', 'C', 'A', 'P', 'T', 'I', 'O', 'N', 'S', 'H', 'I', 'D', 'D', 'E', 'N', 'T', 'E', 'X', 'T', 'T', 'H', 'E', 'P', 'E', 'R', 'S', 'O', 'N', 'I', 'N', 'C', 'H', 'A', 'R', 'G', 'E', 'T', 'E', 'A', 'C', 'H', 'E', 'R', 'C', 'L', 'I', 'E', 'N', 'T', 'C', 'A', 'N', 'D', 'E', 'F', 'I', 'N', 'E', 'T', 'H', 'E', 'I', 'R', 'C', 'H', 'O', 'I', 'C', 'E', 'A', 'N', 'D', 'U', 'S', 'E', 'R', 'S', 'S', 'T', 'U', 'D', 'E', 'N', 'T', 'S', 'W', 'O', 'R', 'K', 'E', 'R', 'S', 'C', 'A', 'N', 'S', 'I', 'M', 'P', 'L', 'Y', 'X', 'S', 'E', 'L', 'E', 'C', 'T', 'O', 'R', 'E', 'X', 'C', 'L', 'U', 'D', 'E', 'T', 'H', 'E', 'E', 'L', 'E', 'M', 'E', 'N', 'T', 'S', 'A', 'C', 'C', 'O', 'R', 'D', 'I', 'N', 'G', 'L', 'Y', 'A', 'N', 'D', 'W', 'A', 'T', 'C', 'H', 'T', 'H', 'E', 'W', 'O', 'R', 'D', 'C', 'O', 'U', 'N', 'T', 'A', 'U', 'T', 'O', 'M', 'A', 'T', 'I', 'C', 'A', 'L', 'L', 'Y', 'U', 'P', 'D', 'A', 'T', 'E', 'S', 'O', 'F', 'T', 'W', 'A', 'R', 'E', 'M', 'O', 'D', 'E', 'R', 'N', 'W', 'E', 'B', 'B', 'R', 'O', 'W', 'S', 'E', 'R', 'S', 'X', 'S', 'U', 'P', 'P', 'O', 'R', 'T', 'W', 'O', 'R', 'D', 'C', 'O', 'U', 'N', 'T', 'I', 'N', 'G', 'V', 'I', 'A', 'E', 'X', 'T', 'E', 'N', 'S', 'I', 'O', 'N', 'S', 'V', 'I', 'A', 'A', 'J', 'A', 'V', 'A', 'S', 'C', 'R', 'I', 'P', 'T', 'B', 'O', 'O', 'K', 'M', 'A', 'R', 'K', 'L', 'E', 'T', 'O', 'R', 'A', 'S', 'C', 'R', 'I', 'P', 'T', 'T', 'H', 'A', 'T', 'I', 'S', 'H', 'O', 'S', 'T', 'E', 'D', 'I', 'N', 'A', 'W', 'E', 'B', 'S', 'I', 'T', 'E', 'M', 'O', 'S', 'T', 'W', 'O', 'R', 'D', 'X', 'P', 'R', 'O', 'C', 'E', 'S', 'S', 'O', 'R', 'S', 'C', 'A', 'N', 'A', 'L', 'S', 'O', 'C', 'O', 'U', 'N', 'T', 'W', 'O', 'R', 'D', 'S', 'U', 'N', 'I', 'X', 'L', 'I', 'K', 'E', 'S', 'Y', 'S', 'T', 'E', 'M', 'S', 'I', 'N', 'C', 'L', 'U', 'D', 'E', 'A', 'P', 'R', 'O', 'G', 'R', 'A', 'M', 'W', 'C', 'S', 'P', 'E', 'C', 'I', 'F', 'I', 'C', 'A', 'L', 'L', 'Y', 'F', 'O', 'R', 'W', 'O', 'R', 'D', 'C', 'O', 'U', 'N', 'T', 'I', 'N', 'G', 'X', 'A', 'S', 'E', 'X', 'P', 'L', 'A', 'I', 'N', 'E', 'D', 'E', 'A', 'R', 'L', 'I', 'E', 'R', 'D', 'I', 'F', 'F', 'E', 'R', 'E', 'N', 'T', 'W', 'O', 'R', 'D', 'C', 'O', 'U', 'N', 'T', 'I', 'N', 'G', 'P', 'R', 'O', 'G', 'R', 'A', 'M', 'S', 'M', 'A', 'Y', 'G', 'I', 'V', 'E', 'V', 'A', 'R', 'Y', 'I', 'N', 'G', 'R', 'E', 'S', 'U', 'L', 'T', 'S', 'D', 'E', 'P', 'E', 'N', 'D', 'I', 'N', 'G', 'O', 'N', 'T', 'H', 'E', 'T', 'E', 'X', 'T', 'S', 'E', 'G', 'M', 'E', 'N', 'T', 'A', 'T', 'I', 'O', 'N', 'R', 'U', 'L', 'E', 'X', 'D', 'E', 'T', 'A', 'I', 'L', 'S', 'T', 'H', 'E', 'E', 'X', 'A', 'C', 'T', 'N', 'U', 'M', 'B', 'E', 'R', 'O', 'F', 'W', 'O', 'R', 'D', 'S', 'O', 'F', 'T', 'E', 'N', 'I', 'S', 'N', 'O', 'T', 'A', 'S', 'T', 'R', 'I', 'C', 'T', 'R', 'E', 'Q', 'U', 'I', 'R', 'E', 'M', 'E', 'N', 'T', 'T', 'H', 'U', 'S', 'T', 'H', 'E', 'V', 'A', 'R', 'I', 'A', 'T', 'I', 'O', 'N', 'I', 'S', 'A', 'C', 'C', 'E', 'P', 'T', 'A', 'B', 'L', 'E', 'X', 'I', 'N', 'F', 'I', 'C', 'T', 'I', 'O', 'N', 'N', 'O', 'V', 'E', 'L', 'I', 'S', 'T', 'J', 'A', 'N', 'E', 'S', 'M', 'I', 'L', 'E', 'Y', 'S', 'U', 'G', 'G', 'E', 'S', 'T', 'S', 'T', 'H', 'A', 'T', 'L', 'E', 'N', 'G', 'T', 'H', 'I', 'S', 'A', 'N', 'I', 'M', 'P', 'O', 'R', 'T', 'A', 'N', 'T', 'Q', 'U', 'A', 'L', 'I', 'T', 'Y', 'O', 'F', 'T', 'H', 'E', 'N', 'O', 'V', 'E', 'L', 'H', 'O', 'W', 'E', 'V', 'E', 'R', 'N', 'O', 'V', 'E', 'L', 'S', 'C', 'A', 'N', 'V', 'A', 'R', 'Y', 'X', 'T', 'R', 'E', 'M', 'E', 'N', 'D', 'O', 'U', 'S', 'L', 'Y', 'I', 'N', 'L', 'E', 'N', 'G', 'T', 'H', 'S', 'M', 'I', 'L', 'E', 'Y', 'L', 'I', 'S', 'T', 'S', 'N', 'O', 'V', 'E', 'L', 'S', 'A', 'S', 'T', 'Y', 'P', 'I', 'C', 'A', 'L', 'L', 'Y', 'B', 'E', 'I', 'N', 'G', 'B', 'E', 'T', 'W', 'E', 'E', 'N', 'A', 'N', 'D', 'W', 'O', 'R', 'D', 'S', 'W', 'H', 'I', 'L', 'E', 'N', 'A', 'T', 'I', 'O', 'N', 'A', 'L', 'N', 'O', 'V', 'E', 'L', 'W', 'R', 'I', 'T', 'I', 'N', 'G', 'M', 'O', 'N', 'T', 'H', 'X', 'R', 'E', 'Q', 'U', 'I', 'R', 'E', 'S', 'I', 'T', 'S', 'N', 'O', 'V', 'E', 'L', 'S', 'T', 'O', 'B', 'E', 'A', 'T', 'L', 'E', 'A', 'S', 'T', 'W', 'O', 'R', 'D', 'S', 'T', 'H', 'E', 'R', 'E', 'A', 'R', 'E', 'N', 'O', 'F', 'I', 'R', 'M', 'R', 'U', 'L', 'E', 'S', 'F', 'O', 'R', 'E', 'X', 'A', 'M', 'P', 'L', 'E', 'T', 'H', 'E', 'B', 'O', 'U', 'N', 'D', 'A', 'R', 'Y', 'B', 'E', 'T', 'W', 'E', 'E', 'N', 'A', 'N', 'O', 'V', 'E', 'L', 'L', 'A', 'A', 'N', 'D', 'A', 'N', 'O', 'V', 'E', 'L', 'X', 'I', 'S', 'A', 'R', 'B', 'I', 'T', 'R', 'A', 'R', 'Y', 'A', 'N', 'D', 'A', 'L', 'I', 'T', 'E', 'R', 'A', 'R', 'Y', 'W', 'O', 'R', 'K', 'M', 'A', 'Y', 'B', 'E', 'D', 'I', 'F', 'F', 'I', 'C', 'U', 'L', 'T', 'T', 'O', 'C', 'A', 'T', 'E', 'G', 'O', 'R', 'I', 'S', 'E', 'B', 'U', 'T', 'W', 'H', 'I', 'L', 'E', 'T', 'H', 'E', 'L', 'E', 'N', 'G', 'T', 'H', 'O', 'F', 'A', 'N', 'O', 'V', 'E', 'L', 'I', 'S', 'T', 'O', 'A', 'L', 'A', 'R', 'G', 'E', 'E', 'X', 'T', 'E', 'N', 'T', 'U', 'P', 'X', 'T', 'O', 'I', 'T', 'S', 'W', 'R', 'I', 'T', 'E', 'R', 'L', 'E', 'N', 'G', 'T', 'H', 'S', 'M', 'A', 'Y', 'A', 'L', 'S', 'O', 'V', 'A', 'R', 'Y', 'B', 'Y', 'S', 'U', 'B', 'G', 'E', 'N', 'R', 'E', 'M', 'A', 'N', 'Y', 'C', 'H', 'A', 'P', 'T', 'E', 'R', 'B', 'O', 'O', 'K', 'S', 'F', 'O', 'R', 'C', 'H', 'I', 'L', 'D', 'R', 'E', 'N', 'S', 'T', 'A', 'R', 'T', 'A', 'T', 'A', 'L', 'E', 'N', 'G', 'T', 'H', 'O', 'F', 'A', 'B', 'O', 'U', 'T', 'W', 'O', 'R', 'D', 'S', 'A', 'N', 'D', 'A', 'X', 'T', 'Y', 'P', 'I', 'C', 'A', 'L', 'M', 'Y', 'S', 'T', 'E', 'R', 'Y', 'N', 'O', 'V', 'E', 'L', 'M', 'I', 'G', 'H', 'T', 'B', 'E', 'I', 'N', 'T', 'H', 'E', 'T', 'O', 'W', 'O', 'R', 'D', 'R', 'A', 'N', 'G', 'E', 'W', 'H', 'I', 'L', 'E', 'A', 'T', 'H', 'R', 'I', 'L', 'L', 'E', 'R', 'C', 'O', 'U', 'L', 'D', 'B', 'E', 'O', 'V', 'E', 'R', 'W', 'O', 'R', 'D', 'S', 'X', 'T', 'H', 'E', 'S', 'C', 'I', 'E', 'N', 'C', 'E', 'F', 'I', 'C', 'T', 'I', 'O', 'N', 'A', 'N', 'D', 'F', 'A', 'N', 'T', 'A', 'S', 'Y', 'W', 'R', 'I', 'T', 'E', 'R', 'S', 'O', 'F', 'A', 'M', 'E', 'R', 'I', 'C', 'A', 'S', 'P', 'E', 'C', 'I', 'F', 'I', 'E', 'S', 'W', 'O', 'R', 'D', 'L', 'E', 'N', 'G', 'T', 'H', 'S', 'F', 'O', 'R', 'E', 'A', 'C', 'H', 'C', 'A', 'T', 'E', 'G', 'O', 'R', 'Y', 'O', 'F', 'I', 'T', 'S', 'N', 'E', 'B', 'U', 'L', 'A', 'A', 'W', 'A', 'R', 'D', 'C', 'A', 'T', 'E', 'G', 'O', 'R', 'I', 'E', 'S', 'X', 'C', 'L', 'A', 'S', 'S', 'I', 'F', 'I', 'C', 'A', 'T', 'I', 'O', 'N', 'W', 'W', 'O', 'R', 'D', 'C', 'O', 'U', 'N', 'T', 'N', 'O', 'V', 'E', 'L', 'O', 'V', 'E', 'R', 'W', 'O', 'R', 'D', 'S', 'N', 'O', 'V', 'E', 'L', 'L', 'A', 'T', 'O', 'W', 'O', 'R', 'D', 'S', 'N', 'O', 'V', 'E', 'L', 'E', 'T', 'T', 'E', 'T', 'O', 'W', 'O', 'R', 'D', 'S', 'S', 'H', 'O', 'R', 'T', 'S', 'T', 'O', 'R', 'Y', 'U', 'N', 'D', 'E', 'R', 'W', 'O', 'R', 'D', 'S', 'X', 'I', 'N', 'N', 'O', 'N', 'F', 'I', 'C', 'T', 'I', 'O', 'N', 'T', 'H', 'E', 'A', 'C', 'C', 'E', 'P', 'T', 'A', 'B', 'L', 'E', 'L', 'E', 'N', 'G', 'T', 'H', 'O', 'F', 'A', 'N', 'A', 'C', 'A', 'D', 'E', 'M', 'I', 'C', 'D', 'I', 'S', 'S', 'E', 'R', 'T', 'A', 'T', 'I', 'O', 'N', 'V', 'A', 'R', 'I', 'E', 'S', 'G', 'R', 'E', 'A', 'T', 'L', 'Y', 'D', 'E', 'P', 'E', 'N', 'D', 'E', 'N', 'T', 'P', 'R', 'E', 'D', 'O', 'M', 'I', 'N', 'A', 'N', 'T', 'L', 'Y', 'O', 'N', 'T', 'H', 'E', 'S', 'U', 'B', 'J', 'E', 'C', 'T', 'X', 'N', 'U', 'M', 'E', 'R', 'O', 'U', 'S', 'A', 'M', 'E', 'R', 'I', 'C', 'A', 'N', 'U', 'N', 'I', 'V', 'E', 'R', 'S', 'I', 'T', 'I', 'E', 'S', 'L', 'I', 'M', 'I', 'T', 'P', 'H', 'D', 'D', 'I', 'S', 'S', 'E', 'R', 'T', 'A', 'T', 'I', 'O', 'N', 'S', 'T', 'O', 'A', 'T', 'M', 'O', 'S', 'T', 'W', 'O', 'R', 'D', 'S', 'B', 'A', 'R', 'R', 'I', 'N', 'G', 'S', 'P', 'E', 'C', 'I', 'A', 'L', 'P', 'E', 'R', 'M', 'I', 'S', 'S', 'I', 'O', 'N', 'F', 'O', 'R', 'E', 'X', 'C', 'E', 'E', 'D', 'I', 'N', 'G', 'T', 'H', 'I', 'S', 'L', 'I', 'M', 'I', 'T']\n"
          ]
        }
      ]
    },
    {
      "cell_type": "code",
      "source": [
        "def index_of_coincidence(text):\n",
        "\n",
        "    n = len(text)\n",
        "\n",
        "    letter_counts = [0] * 100\n",
        "\n",
        "    for i in range(n):\n",
        "\n",
        "\n",
        "        letter_counts[ord(text[i]) - 65] += 1\n",
        "\n",
        "    sum_ = 0.0\n",
        "\n",
        "    for i in range(26):\n",
        "        sum_ += letter_counts[i] * (letter_counts[i] - 1)\n",
        "\n",
        "    return sum_ / (n * (n - 1))\n",
        "\n",
        "text=string2\n",
        "print(text)\n",
        "index_of_coincidence(text)"
      ],
      "metadata": {
        "colab": {
          "base_uri": "https://localhost:8080/"
        },
        "id": "YnwqNCHhpfUp",
        "outputId": "3c380a9b-07c4-49e8-8e54-e62c4f34c315"
      },
      "execution_count": null,
      "outputs": [
        {
          "output_type": "stream",
          "name": "stdout",
          "text": [
            "WORDCOUNTFROMWIKIPEDIATHEFREEENCYCLOPEDIA\n",
            "THEWORDCOUNTISTHENUMBEROFWORDSINADOCUMENTORPASSAGEOFTEXTWORDCOUNTINGMAYBENEEDEDWHENATEXT\n",
            "ISREQUIREDTOSTAYWITHINCERTAINNUMBERSOFWORDSTHISMAYPARTICULARLYBETHECASEINACADEMIALEGAL\n",
            "PROCEEDINGSJOURNALISMANDADVERTISINGWORDCOUNTISCOMMONLYUSEDBYTRANSLATORSTODETERMINETHEPRICEFOR\n",
            "THETRANSLATIONJOBWORDCOUNTSMAYALSOBEUSEDTOCALCULATEMEASURESOFREADABILITYANDTOMEASURETYPING\n",
            "ANDREADINGSPEEDSUSUALLYINWORDSPERMINUTEWHENCONVERTINGCHARACTERCOUNTSTOWORDSAMEASUREOFFIVEOR\n",
            "SIXCHARACTERSTOAWORDISGENERALLYUSEDCONTENTSDETAILSANDVARIATIONSOFDEFINITIONSOFTWAREINFICTION\n",
            "INNONFICTIONSEEALSOREFERENCESSOURCESEXTERNALLINKSDETAILSANDVARIATIONSOFDEFINITION\n",
            "THISSECTIONDOESNOTCITEANYREFERENCESORSOURCESPLEASEHELPIMPROVETHISSECTIONBYADDINGCITATIONSTO\n",
            "RELIABLESOURCESUNSOURCEDMATERIALMAYBECHALLENGEDANDREMOVED\n",
            "VARIATIONSINTHEOPERATIONALDEFINITIONSOFHOWTOCOUNTTHEWORDSCANOCCURNAMELYWHATCOUNTSASAWORDAND\n",
            "WHICHWORDSDONTCOUNTTOWARDTHETOTALHOWEVERESPECIALLYSINCETHEADVENTOFWIDESPREADWORDPROCESSINGTHERE\n",
            "ISABROADCONSENSUSONTHESEOPERATIONALDEFINITIONSANDHENCETHEBOTTOMLINEINTEGERRESULT\n",
            "THECONSENSUSISTOACCEPTTHETEXTSEGMENTATIONRULESGENERALLYFOUNDINMOSTWORDPROCESSINGSOFTWAREINCLUDINGHOW\n",
            "WORDBOUNDARIESAREDETERMINEDWHICHDEPENDSONHOWWORDDIVIDERSAREDEFINEDTHEFIRSTTRAITOFTHATDEFINITIONISTHATASPACEANYOFVARIOUSWHITESPACE\n",
            "CHARACTERSSUCHASAREGULARWORDSPACEANEMSPACEORATABCHARACTERISAWORDDIVIDERUSUALLYAHYPHENORASLASHISTOO\n",
            "DIFFERENTWORDCOUNTINGPROGRAMSMAYGIVEVARYINGRESULTSDEPENDINGONTHETEXTSEGMENTATIONRULE\n",
            "DETAILSANDONWHETHERWORDSOUTSIDETHEMAINTEXTSUCHASFOOTNOTESENDNOTESORHIDDENTEXT)ARECOUNTEDBUTTHEBEHAVIOR\n",
            "OFMOSTMAJORWORDPROCESSINGAPPLICATIONSISBROADLYSIMILARHOWEVERDURINGTHEERAWHENSCHOOLASSIGNMENTSWEREDONEIN\n",
            "HANDWRITINGORWITHTYPEWRITERSTHERULESFORTHESEDEFINITIONSOFTENDIFFEREDFROMTODAYSCONSENSUS\n",
            "MOSTIMPORTANTLYMANYSTUDENTSWEREDRILLEDONTHERULETHATCERTAINWORDSDONTCOUNTUSUALLYARTICLESNAMELYAANTHEBUT\n",
            "SOMETIMESALSOOTHERSSUCHASCONJUNCTIONSFOREXAMPLEANDORBUTANDSOMEPREPOSITIONSUSUALLYTOOFHYPHENATEDPERMANENT\n",
            "COMPOUNDSSUCHASFOLLOWUPNOUNORLONGTERMADJECTIVEWERECOUNTEDASONEWORDTOSAVETHETIMEANDEFFORTOFCOUNTING\n",
            "WORDBYWORDOFTENARULEOFTHUMBFORTHEAVERAGENUMBEROFWORDSPERLINEWASUSEDSUCHAS10WORDSPERLINETHESERULES\n",
            "HAVEFALLENBYTHEWAYSIDEINTHEWORDPROCESSINGERATHEWORDCOUNTFEATUREOFSUCHSOFTWAREWHICHFOLLOWSTHETEXT\n",
            "SEGMENTATIONRULESMENTIONEDEARLIERISNOWTHESTANDARDARBITERBECAUSEITISLARGELYCONSISTENTACROSSDOCUMENTSAND\n",
            "APPLICATIONSANDBECAUSEITISFASTEFFORTLESSANDCOSTLESSALREADYINCLUDEDWITHTHEAPPLICATIONASFORWHICHSECTIONSOF\n",
            "ADOCUMENTCOUNTTOWARDTHETOTALSUCHASFOOTNOTESENDNOTESABSTRACTSREFERENCELISTSANDBIBLIOGRAPHIESTABLESFIGURE\n",
            "CAPTIONSHIDDENTEXTTHEPERSONINCHARGETEACHERCLIENTCANDEFINETHEIRCHOICEANDUSERSSTUDENTSWORKERSCANSIMPLY\n",
            "SELECTOREXCLUDETHEELEMENTSACCORDINGLYANDWATCHTHEWORDCOUNTAUTOMATICALLYUPDATESOFTWAREMODERNWEBBROWSERS\n",
            "SUPPORTWORDCOUNTINGVIAEXTENSIONSVIAAJAVASCRIPTBOOKMARKLETORASCRIPTTHATISHOSTEDINAWEBSITEMOSTWORD\n",
            "PROCESSORSCANALSOCOUNTWORDSUNIXLIKESYSTEMSINCLUDEAPROGRAMWCSPECIFICALLYFORWORDCOUNTING\n",
            "ASEXPLAINEDEARLIERDIFFERENTWORDCOUNTINGPROGRAMSMAYGIVEVARYINGRESULTSDEPENDINGONTHETEXTSEGMENTATIONRULE\n",
            "DETAILSTHEEXACTNUMBEROFWORDSOFTENISNOTASTRICTREQUIREMENTTHUSTHEVARIATIONISACCEPTABLE\n",
            "INFICTIONNOVELISTJANESMILEYSUGGESTSTHATLENGTHISANIMPORTANTQUALITYOFTHENOVELHOWEVERNOVELSCANVARY\n",
            "TREMENDOUSLYINLENGTHSMILEYLISTSNOVELSASTYPICALLYBEINGBETWEENANDWORDSWHILENATIONALNOVELWRITINGMONTH\n",
            "REQUIRESITSNOVELSTOBEATLEASTWORDSTHEREARENOFIRMRULESFOREXAMPLETHEBOUNDARYBETWEENANOVELLAANDANOVEL\n",
            "ISARBITRARYANDALITERARYWORKMAYBEDIFFICULTTOCATEGORISEBUTWHILETHELENGTHOFANOVELISTOALARGEEXTENTUP\n",
            "TOITSWRITERLENGTHSMAYALSOVARYBYSUBGENREMANYCHAPTERBOOKSFORCHILDRENSTARTATALENGTHOFABOUTWORDSANDA\n",
            "TYPICALMYSTERYNOVELMIGHTBEINTHETOWORDRANGEWHILEATHRILLERCOULDBEOVERWORDS\n",
            "THESCIENCEFICTIONANDFANTASYWRITERSOFAMERICASPECIFIESWORDLENGTHSFOREACHCATEGORYOFITSNEBULAAWARDCATEGORIES\n",
            "CLASSIFICATION\tWORDCOUNTNOVELOVERWORDSNOVELLATOWORDSNOVELETTETOWORDSSHORTSTORYUNDERWORDS\n",
            "INNONFICTIONTHEACCEPTABLELENGTHOFANACADEMICDISSERTATIONVARIESGREATLYDEPENDENTPREDOMINANTLYONTHESUBJECT\n",
            "NUMEROUSAMERICANUNIVERSITIESLIMITPHDDISSERTATIONSTOATMOSTWORDSBARRINGSPECIALPERMISSIONFOREXCEEDINGTHISLIMIT\n"
          ]
        },
        {
          "output_type": "execute_result",
          "data": {
            "text/plain": [
              "0.06409811875310126"
            ]
          },
          "metadata": {},
          "execution_count": 16
        }
      ]
    },
    {
      "cell_type": "code",
      "source": [
        "def encryption(key,string2):\n",
        "  m2=[]\n",
        "  for i in range(len(string2)):\n",
        "    m2.extend(chr((ord(string2[i])+ord(key[i]))%26+ord('A')))\n",
        "  return m2\n",
        "cipher=encryption(key,string2)\n",
        "print(len(cipher))\n"
      ],
      "metadata": {
        "colab": {
          "base_uri": "https://localhost:8080/"
        },
        "id": "swkUqFKApkLi",
        "outputId": "cf3a6ab2-f1ba-434d-d862-922c368b65b5"
      },
      "execution_count": null,
      "outputs": [
        {
          "output_type": "stream",
          "name": "stdout",
          "text": [
            "4152\n"
          ]
        }
      ]
    },
    {
      "cell_type": "code",
      "source": [
        "def key_length_estimation(ciphertext, min_key_length, max_key_length):\n",
        "\n",
        "    distances = []\n",
        "\n",
        "    for i in range(min_key_length, max_key_length + 1):\n",
        "\n",
        "        segments = [ciphertext[j::i] for j in range(i)]\n",
        "\n",
        "        avg_ioc = sum(index_of_coincidence(segment) for segment in segments)/i\n",
        "\n",
        "        distances.append((i, avg_ioc))\n",
        "\n",
        "    distances.sort(key=lambda x: x[1], reverse=True)\n",
        "\n",
        "    return distances[0][0]\n",
        "d=key_length_estimation(cipher,1,15)\n",
        "print(d)\n"
      ],
      "metadata": {
        "colab": {
          "base_uri": "https://localhost:8080/"
        },
        "id": "SE9t0nnzpoZn",
        "outputId": "d38ff31f-7de3-4fba-9032-bab96375a7b8"
      },
      "execution_count": null,
      "outputs": [
        {
          "output_type": "stream",
          "name": "stdout",
          "text": [
            "10\n"
          ]
        }
      ]
    },
    {
      "cell_type": "code",
      "source": [
        "def vigenere_cipher_attack(ciphertext, min_key_length, max_key_length):\n",
        "\n",
        "\n",
        "    key_length=d\n",
        "\n",
        "    key = \"\"\n",
        "    distance=[]\n",
        "    segments=[0]*d\n",
        "    #print(segments[0])\n",
        "    for i in range(key_length):\n",
        "      segments[i] = ciphertext[i::key_length]\n",
        "      print(i)\n",
        "      print(segments[i])\n",
        "      print(index_of_coincidence(segments[i]))\n",
        "      print(\"ap))\")\n",
        "    a=[]\n",
        "    a=[0]*4\n",
        "    #for i in range(4):\n",
        "     # a[i]=sum(index_of_coincidence(segments[i]))\n",
        "     # print(a[i])\n",
        "\n",
        "    avg_ioc = sum(index_of_coincidence(segment) for segment in segments)\n",
        "\n",
        "    distance.append(avg_ioc)\n",
        "    print(distance)\n",
        "    print(\"Estimated key:\", key)\n",
        "\n",
        "ciphertext =string2\n",
        "\n",
        "vigenere_cipher_attack(ciphertext, 1, d)"
      ],
      "metadata": {
        "colab": {
          "base_uri": "https://localhost:8080/"
        },
        "id": "bknppzycqCYF",
        "outputId": "69d754db-fdd8-4a37-dd50-e3efa8f9fd93"
      },
      "execution_count": null,
      "outputs": [
        {
          "output_type": "stream",
          "name": "stdout",
          "text": [
            "0\n",
            "WRINAOUDEGRMD\n",
            "DHNOYRSIOONINLAOTRLOAEASLENISRTEASEVAAECTRDSFNSERAAIETNTERHEOCOSORHNVITNOHOYSDDTTELADRNAESNICMEHSTGRANROLWRECNVEIFITOHCSUACAWRYAIRPYNETMUSHTIASRTEHORNIDHIHSW\n",
            "NPHTINROONUDHCDTTLTSSJONSILHMPANTINOHFNBNUVEES0ILLAESEFUEO\n",
            "INLHAARSSAAEFLTDWLFCDUHHEAESITRSTIATTETKPOHAYHTASDWONTAPLPSSROCUSDWADADFDRGGPHELTMSTQHAEFEMSGOIVNADNLSLWDIWTSTTERAUEA\n",
            "RRYLRLHSXIELUYODTAAAOERLREECNRAWSTSREIRESWESYSTEGDRIDRLJONIDISRLNII\n",
            "0.06227988878591288\n",
            "ap))\n",
            "1\n",
            "OOAC\n",
            "UMSNEDAWITIURPLEACUDNTYNDH\n",
            "ARYDTOIAGNUDERCTAERWROAIEOIOERCLIAFHDENCETNI\n",
            "OUIADANIIWECWA\n",
            "STORYDEDGBNEAOELREITMULMOFUOIRHHIFRTTAFIHULCEROUPSFDRGGPHELAESNSEH)DASDGOLONESEHGEEHTDONSTDREESUIY\n",
            "ASURDOTLEAOSOEVTREFTYAMERREWNELYWSWECWWSOTIERUGTDNTCAELYIIOTONEASBFTOAEHTNCCHAUELRECAEALOESRTEATETTIDRONTECLCSEFCOIREENEHBOAUUTPILITTRTEOROGIAYESORHIOWAUMNEAIYABTIEOTTTNSBCKRABNLVIDECRSTTSSOFENDSCDLNOTSU\n",
            "IPTETEEEYEUUEDOTIPFNT\n",
            "0.06488646895273402\n",
            "ap))\n",
            "2\n",
            "RMTYTNBITOCYHSONMDAYILERAGIUSEETTDATEFTS\n",
            "GASWTTOSOAOANIAFFCNEEELLTIIOACELHBTRURALRRTOTTWCHSWDOTESVSPTRSOLNTIRCSHELLOCTDREMDODISHISVTACAEOARSHHFCOIREENENRITFNIABVTPANYWGNIRAOWREIIMSTLEIRRDSCASLUNEOMIYNNUFUREEDTOIWRBROLDOESESOIOAHHSENIESBSEEODIASSEITCRICTTSESESGB\n",
            "IHCHAENDRYEECNWULFRETINJBTTET\n",
            "SUIEASLOEAEOGVENTT\n",
            "EEFSISITCILSHTYLVYUTSSBEWNI\n",
            "TBORLPDNNSARETSTFOESGOGHSELODMENRAOWCIAOPROGEC\n",
            "ACOORTHNIOTHMASPDOCSNSINWNEOG\n",
            "0.06402421279320179\n",
            "ap))\n",
            "3\n",
            "DWHCHTENOFOBERSCBSRBNEENDWSSLTPHICLOMRYUASLPHIEWURCRLTLTITTFANSISINSENESPIYAERCLLEIHNIOOUAAHOWASIEPRHOUPDSHNEOTENEYSEWIDSIEWENTAOPAERHRARCDUEIEOGVENTT\n",
            "DWDEODDRUIMRPSSETSGENRRUSOFTEIYNLUTOULAOSCCXREOTAENONMWDTIRNOUFAFISRT\n",
            "NIRNRTSITGRORTIELNC\n",
            "OUTSSNHAWOUTOFNTRARLCDEHENIDES\n",
            "XLODOTYTNRWNSAOOHDEPCNXMPPYUXRRURESDEADERTTRTOATSETIAOHE\n",
            "SHTTENHATRSEREELAADANYDOEHAANWTVEAFNEUAYLTATUOIOSFEDROBACTOVVDEODNNAOITGEONTAILSSOGRRT\n",
            "0.06344217449508177\n",
            "ap))\n",
            "4\n",
            "CIELEIRARTUENETEETTEAGDAVOCEAEREOOSCEEARNPLEENROR\n",
            "TDLESINWIILCENAOISSYSPISATLCEMEMAEAOCRRTWINALPNNROEASEEAEESNOTTSFTSANBANPWRETTNARSAAWNATDANSRURESDEADOOEXONDETOAOPIIVHCNDDWILENFONMMTLLANAENMOHTABPNOTNDLOAEAOMTGRLOGWNUDHHBDDGDUOCHMUNIATIYTUANSEASCTTHNMOTODRENAEADPARDRUNCSCERWROUWWSOGIVORAIMRATLSREFNPLENAVUIXTEXOEREHNBITYHSNFOLTLSSYIAILIENADNSERNARDWICBENLTRHANPOSNT\n",
            "SMHNHLRENYACLERUTLIUEESTRENTBFCIRNMT\n",
            "MVISTRSMEH\n",
            "0.06599150224084745\n",
            "ap))\n",
            "5\n",
            "OKFOWSODPENNAQARRHITCAILERODTRITNUOAAANEDEYRNGCRESEIYNAOIAOCSEXKNNTENROLMSDIIEDANOTOLNODNCOCTRHECTECRDORFNBIUSAEAGOWSRGOREEOSDRDICIPCSOETEILOTENAVUIXTENRTTTOECTRJCLSMEEHMOWITEDSEDSPASEEITLSTEOAIMURSOETSLRDRSSEO\n",
            "DEREOECSEAYEPECRFHEELESNETCAMPSEFNALHIISEWAONANDPSPEERCECSTAELMDADMPAE\n",
            "RVOAKATNOONWIIOCOTLINTMALNTITAFNIMEILOJSAATTWSRYMNPNNLNNQOTSOFTYONBAOFAULOAUISRRTRTGWTTIEGRDDNAWMIEAYLEAONRLNOTROHLADOEDIHNEEMEODPIXI\n",
            "0.06760956870962109\n",
            "ap))\n",
            "6\n",
            "UIRPOTFOAXTETUYTSICHALNIRDMBOMCRJNBLSDDTREIMCCODOIRSUTNNTRNTOSTSDSICOEREPEDOASMYGVIPDSUSAORHCDOCEOAEECNAIDONLECXTEUOIEHUEDNRATAESEOATARMARVLRONTMALNTITWDHSNTNOH\n",
            "OEIBIREOENRTESEORAUONWDTNCLNHTTSOPTEUFD\n",
            "SOLJEOAAFWOOTNRWHPSVTIRROETFTNEDNDRIOCEPAIFDLUEOCONALTOCCBHFTNRGLFHESNLUEITCADRBSDINSMSIASCAOKNGIRIAETISRTGSOACWICEVSENAUTNQHECEIIOIGDEOGUVLTFOHBVOILRFTTEVRPTMYEECATOYEGTEIBSCNREFNCOAGSNTWLOWSWNEENINAENEURRIRASESCS\n",
            "0.06210348640940574\n",
            "ap))\n",
            "7\n",
            "NPEERHWCSTIEEIWAOSUED\n",
            "GSTCMYRIEAOTECUATYEDNIOHUSFXSGSSDSIE\n",
            "IRSEDVOOTTFSARCINBUABEEOEEONCMUDWOTWITFDS\n",
            "OTTNHTTTNCTINNRNIONDWDDRHIFTAUCERDSBIIYAOTISRTGSOAHSEUOETUEORSCRLDRONEIHRFFFEYSRYEOHWOYAEIHCNLAPSHPCUWOECNVNCOFFHUDAAEEEHNOAUOWOETSEOABSNRNLNTOCRDANHFTRSNTTEIIIITSEIIORWSEDNNCOTAEBUCASCACSWTELRECRFWNIRWNMYSOENITOSTNAA\n",
            "NNGLIUEVAMNLVCBWNVMIEEHIREEEVTIKIEWNEG\n",
            "EABMRHRHRPRHOWLE\n",
            "EDIRIGHFAOS\tNOAVOTOFALASVTNASMISTTTBCSEL\n",
            "0.0606833129619929\n",
            "ap))\n",
            "8\n",
            "TEEDDEOUSWNDXRIIFMLCEPSMIOOTSNFNBSUURBOPASWNNANAFCTEEDVOOIIOEOREAFNICEOSOTNSLNTEDDNRFFTAENAOUHEAHWWSINHIIETE\n",
            "SESOEDDGNWDEHSDEETIHNSERESPCSDAS\n",
            "WNMYSOENIEOMCTSENBFWSAOAUALTITTSOITDS\n",
            "TSRNAOUAMBMEOSENOUYEOCUNCOEEDORTTEMSSSRRFETCTNFALXAMAWRELSOTIDIROEEPAS\n",
            "CDUOESLBEGOEOTENISOICETGHUITMRPOEVRRRHEWSSDSLAIOGNDOGAIDNGRLNRNRTRCIOEGEMANENELEEAEOAEORLAEREBTLERTMCGHGLETRYYABITODIYTWHLOTFFTIETCIWRIWORTERORICECSALTNUECIPAMAIIEI\n",
            "0.06668994819859146\n",
            "ap))\n",
            "9\n",
            "FDEICNRMAOGETETNWAAAMRJASUNRTEOSWMSLEIMIDUOUVRTMIHONDEAFNNNNFUNTRD\n",
            "OIRUEVIGTESECA\n",
            "SAIHTNLTNRNEVLEIOISSEOTNOGTUPENRIPSC\n",
            "ATIOIDFONAYW\n",
            "SGPAHAEHLDOGAIDNGRLTUAHEOXTEMOITARRWASNIYTRNEFCMATETTRNREUERNFADSAPRMHPGTUWTEUDEHABPU1LUAWHEHTSRLTTERTDCAISSCBSTSADPSEAOTCTSRILSUNXNENECSRMTTSLTNCEOOPUXIIKIOBOSOSYUMCR\n",
            "EIRPYNETMUSUDOETICNVSENPLORVNEYLLTRTLNESSRMXOWLLAEAUOITIEOLASNOLAFSCNBOIEVHIAECSHATAIFOVDOLDRDCCNAERYPTBRATHTORAODM\n",
            "0.058413363599324836\n",
            "ap))\n",
            "[0.6361239271467138]\n",
            "Estimated key: \n"
          ]
        }
      ]
    },
    {
      "cell_type": "code",
      "source": [
        "test_str = cipher\n",
        "\n",
        "all_freq = {}\n",
        "\n",
        "for i in test_str:\n",
        "    if i in all_freq:\n",
        "        all_freq[i] += 1\n",
        "    else:\n",
        "        all_freq[i] = 1\n",
        "\n",
        "print(\" cipher is :\\n \"+ str(all_freq))"
      ],
      "metadata": {
        "colab": {
          "base_uri": "https://localhost:8080/"
        },
        "id": "u3fKoN8vsHQS",
        "outputId": "f9343835-6457-46b6-8dc3-ab26108b412b"
      },
      "execution_count": null,
      "outputs": [
        {
          "output_type": "stream",
          "name": "stdout",
          "text": [
            " cipher is :\n",
            " {'W': 163, 'A': 249, 'Z': 86, 'R': 241, 'O': 115, 'H': 174, 'Q': 202, 'X': 148, 'D': 140, 'U': 105, 'P': 177, 'K': 114, 'V': 147, 'S': 161, 'I': 218, 'B': 154, 'M': 202, 'T': 199, 'F': 133, 'E': 220, 'C': 128, 'N': 139, 'G': 197, 'J': 74, 'L': 172, 'Y': 94}\n"
          ]
        }
      ]
    }
  ]
}